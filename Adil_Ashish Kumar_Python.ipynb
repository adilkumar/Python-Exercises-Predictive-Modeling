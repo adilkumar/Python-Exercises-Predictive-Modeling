{
 "cells": [
  {
   "cell_type": "markdown",
   "metadata": {},
   "source": [
    "# Adil Ashish Kumar"
   ]
  },
  {
   "cell_type": "markdown",
   "metadata": {},
   "source": [
    "## Q1"
   ]
  },
  {
   "cell_type": "code",
   "execution_count": null,
   "metadata": {},
   "outputs": [],
   "source": [
    "import numpy as np # np is an alias pointing to numpy\n",
    "import pandas as pd # pd is an alias pointing to pandas\n",
    "df = pd.read_csv(\"http://people.stern.nyu.edu/vt527/perf.data\")"
   ]
  },
  {
   "cell_type": "markdown",
   "metadata": {},
   "source": [
    "## Q2"
   ]
  },
  {
   "cell_type": "code",
   "execution_count": 4,
   "metadata": {},
   "outputs": [
    {
     "data": {
      "text/html": [
       "<div>\n",
       "<style scoped>\n",
       "    .dataframe tbody tr th:only-of-type {\n",
       "        vertical-align: middle;\n",
       "    }\n",
       "\n",
       "    .dataframe tbody tr th {\n",
       "        vertical-align: top;\n",
       "    }\n",
       "\n",
       "    .dataframe thead th {\n",
       "        text-align: right;\n",
       "    }\n",
       "</style>\n",
       "<table border=\"1\" class=\"dataframe\">\n",
       "  <thead>\n",
       "    <tr style=\"text-align: right;\">\n",
       "      <th></th>\n",
       "      <th>1</th>\n",
       "      <th>23</th>\n",
       "      <th>3</th>\n",
       "      <th>1.1</th>\n",
       "      <th>19</th>\n",
       "      <th>3.1</th>\n",
       "    </tr>\n",
       "  </thead>\n",
       "  <tbody>\n",
       "    <tr>\n",
       "      <th>0</th>\n",
       "      <td>2</td>\n",
       "      <td>15</td>\n",
       "      <td>3</td>\n",
       "      <td>1</td>\n",
       "      <td>17</td>\n",
       "      <td>3</td>\n",
       "    </tr>\n",
       "    <tr>\n",
       "      <th>1</th>\n",
       "      <td>1</td>\n",
       "      <td>23</td>\n",
       "      <td>3</td>\n",
       "      <td>2</td>\n",
       "      <td>49</td>\n",
       "      <td>3</td>\n",
       "    </tr>\n",
       "    <tr>\n",
       "      <th>2</th>\n",
       "      <td>1</td>\n",
       "      <td>5</td>\n",
       "      <td>2</td>\n",
       "      <td>2</td>\n",
       "      <td>33</td>\n",
       "      <td>3</td>\n",
       "    </tr>\n",
       "    <tr>\n",
       "      <th>3</th>\n",
       "      <td>2</td>\n",
       "      <td>7</td>\n",
       "      <td>11</td>\n",
       "      <td>2</td>\n",
       "      <td>55</td>\n",
       "      <td>3</td>\n",
       "    </tr>\n",
       "    <tr>\n",
       "      <th>4</th>\n",
       "      <td>2</td>\n",
       "      <td>23</td>\n",
       "      <td>3</td>\n",
       "      <td>1</td>\n",
       "      <td>20</td>\n",
       "      <td>3</td>\n",
       "    </tr>\n",
       "    <tr>\n",
       "      <th>5</th>\n",
       "      <td>2</td>\n",
       "      <td>9</td>\n",
       "      <td>5</td>\n",
       "      <td>2</td>\n",
       "      <td>19</td>\n",
       "      <td>3</td>\n",
       "    </tr>\n",
       "    <tr>\n",
       "      <th>6</th>\n",
       "      <td>2</td>\n",
       "      <td>10</td>\n",
       "      <td>3</td>\n",
       "      <td>2</td>\n",
       "      <td>27</td>\n",
       "      <td>3</td>\n",
       "    </tr>\n",
       "    <tr>\n",
       "      <th>7</th>\n",
       "      <td>1</td>\n",
       "      <td>22</td>\n",
       "      <td>3</td>\n",
       "      <td>1</td>\n",
       "      <td>58</td>\n",
       "      <td>3</td>\n",
       "    </tr>\n",
       "    <tr>\n",
       "      <th>8</th>\n",
       "      <td>2</td>\n",
       "      <td>15</td>\n",
       "      <td>3</td>\n",
       "      <td>1</td>\n",
       "      <td>20</td>\n",
       "      <td>3</td>\n",
       "    </tr>\n",
       "    <tr>\n",
       "      <th>9</th>\n",
       "      <td>2</td>\n",
       "      <td>10</td>\n",
       "      <td>22</td>\n",
       "      <td>2</td>\n",
       "      <td>9</td>\n",
       "      <td>3</td>\n",
       "    </tr>\n",
       "  </tbody>\n",
       "</table>\n",
       "</div>"
      ],
      "text/plain": [
       "   1  23   3  1.1  19  3.1\n",
       "0  2  15   3    1  17    3\n",
       "1  1  23   3    2  49    3\n",
       "2  1   5   2    2  33    3\n",
       "3  2   7  11    2  55    3\n",
       "4  2  23   3    1  20    3\n",
       "5  2   9   5    2  19    3\n",
       "6  2  10   3    2  27    3\n",
       "7  1  22   3    1  58    3\n",
       "8  2  15   3    1  20    3\n",
       "9  2  10  22    2   9    3"
      ]
     },
     "execution_count": 4,
     "metadata": {},
     "output_type": "execute_result"
    }
   ],
   "source": [
    "df.head(10)"
   ]
  },
  {
   "cell_type": "code",
   "execution_count": 6,
   "metadata": {},
   "outputs": [
    {
     "data": {
      "text/plain": [
       "(150, 6)"
      ]
     },
     "execution_count": 6,
     "metadata": {},
     "output_type": "execute_result"
    }
   ],
   "source": [
    "df.shape\n",
    "# 150 rows and 6 columns"
   ]
  },
  {
   "cell_type": "code",
   "execution_count": 45,
   "metadata": {},
   "outputs": [],
   "source": [
    "a= [\"attr1\",\"attr2\",\"attr3\",\"attr4\",\"attr5\",\"attr6\"]\n",
    "df.columns = a"
   ]
  },
  {
   "cell_type": "code",
   "execution_count": 9,
   "metadata": {},
   "outputs": [
    {
     "data": {
      "text/html": [
       "<div>\n",
       "<style scoped>\n",
       "    .dataframe tbody tr th:only-of-type {\n",
       "        vertical-align: middle;\n",
       "    }\n",
       "\n",
       "    .dataframe tbody tr th {\n",
       "        vertical-align: top;\n",
       "    }\n",
       "\n",
       "    .dataframe thead th {\n",
       "        text-align: right;\n",
       "    }\n",
       "</style>\n",
       "<table border=\"1\" class=\"dataframe\">\n",
       "  <thead>\n",
       "    <tr style=\"text-align: right;\">\n",
       "      <th></th>\n",
       "      <th>attr1</th>\n",
       "      <th>attr2</th>\n",
       "      <th>attr3</th>\n",
       "      <th>attr4</th>\n",
       "      <th>attr5</th>\n",
       "      <th>attr6</th>\n",
       "    </tr>\n",
       "  </thead>\n",
       "  <tbody>\n",
       "    <tr>\n",
       "      <th>count</th>\n",
       "      <td>150.000000</td>\n",
       "      <td>150.000000</td>\n",
       "      <td>150.000000</td>\n",
       "      <td>150.000000</td>\n",
       "      <td>150.000000</td>\n",
       "      <td>150.000000</td>\n",
       "    </tr>\n",
       "    <tr>\n",
       "      <th>mean</th>\n",
       "      <td>1.813333</td>\n",
       "      <td>13.580000</td>\n",
       "      <td>8.140000</td>\n",
       "      <td>1.853333</td>\n",
       "      <td>27.926667</td>\n",
       "      <td>2.013333</td>\n",
       "    </tr>\n",
       "    <tr>\n",
       "      <th>std</th>\n",
       "      <td>0.390949</td>\n",
       "      <td>6.805318</td>\n",
       "      <td>7.034937</td>\n",
       "      <td>0.354958</td>\n",
       "      <td>12.916405</td>\n",
       "      <td>0.819123</td>\n",
       "    </tr>\n",
       "    <tr>\n",
       "      <th>min</th>\n",
       "      <td>1.000000</td>\n",
       "      <td>1.000000</td>\n",
       "      <td>1.000000</td>\n",
       "      <td>1.000000</td>\n",
       "      <td>3.000000</td>\n",
       "      <td>1.000000</td>\n",
       "    </tr>\n",
       "    <tr>\n",
       "      <th>25%</th>\n",
       "      <td>2.000000</td>\n",
       "      <td>8.000000</td>\n",
       "      <td>3.000000</td>\n",
       "      <td>2.000000</td>\n",
       "      <td>19.000000</td>\n",
       "      <td>1.000000</td>\n",
       "    </tr>\n",
       "    <tr>\n",
       "      <th>50%</th>\n",
       "      <td>2.000000</td>\n",
       "      <td>13.000000</td>\n",
       "      <td>4.500000</td>\n",
       "      <td>2.000000</td>\n",
       "      <td>27.000000</td>\n",
       "      <td>2.000000</td>\n",
       "    </tr>\n",
       "    <tr>\n",
       "      <th>75%</th>\n",
       "      <td>2.000000</td>\n",
       "      <td>20.000000</td>\n",
       "      <td>15.000000</td>\n",
       "      <td>2.000000</td>\n",
       "      <td>37.000000</td>\n",
       "      <td>3.000000</td>\n",
       "    </tr>\n",
       "    <tr>\n",
       "      <th>max</th>\n",
       "      <td>2.000000</td>\n",
       "      <td>25.000000</td>\n",
       "      <td>26.000000</td>\n",
       "      <td>2.000000</td>\n",
       "      <td>66.000000</td>\n",
       "      <td>3.000000</td>\n",
       "    </tr>\n",
       "  </tbody>\n",
       "</table>\n",
       "</div>"
      ],
      "text/plain": [
       "            attr1       attr2       attr3       attr4       attr5       attr6\n",
       "count  150.000000  150.000000  150.000000  150.000000  150.000000  150.000000\n",
       "mean     1.813333   13.580000    8.140000    1.853333   27.926667    2.013333\n",
       "std      0.390949    6.805318    7.034937    0.354958   12.916405    0.819123\n",
       "min      1.000000    1.000000    1.000000    1.000000    3.000000    1.000000\n",
       "25%      2.000000    8.000000    3.000000    2.000000   19.000000    1.000000\n",
       "50%      2.000000   13.000000    4.500000    2.000000   27.000000    2.000000\n",
       "75%      2.000000   20.000000   15.000000    2.000000   37.000000    3.000000\n",
       "max      2.000000   25.000000   26.000000    2.000000   66.000000    3.000000"
      ]
     },
     "execution_count": 9,
     "metadata": {},
     "output_type": "execute_result"
    }
   ],
   "source": [
    "df.describe()"
   ]
  },
  {
   "cell_type": "code",
   "execution_count": 46,
   "metadata": {},
   "outputs": [
    {
     "data": {
      "text/plain": [
       "<matplotlib.axes._subplots.AxesSubplot at 0x1f6307e69e8>"
      ]
     },
     "execution_count": 46,
     "metadata": {},
     "output_type": "execute_result"
    },
    {
     "data": {
      "image/png": "[encoded data removed]",
      "text/plain": [
       "<Figure size 432x288 with 1 Axes>"
      ]
     },
     "metadata": {
      "needs_background": "light"
     },
     "output_type": "display_data"
    }
   ],
   "source": [
    "# Libraries for plotting\n",
    "import matplotlib.pyplot as plt\n",
    "import seaborn as sns\n",
    "\n",
    "sns.countplot(df['attr6'])\n"
   ]
  },
  {
   "cell_type": "code",
   "execution_count": 47,
   "metadata": {},
   "outputs": [
    {
     "data": {
      "text/plain": [
       "<matplotlib.axes._subplots.AxesSubplot at 0x1f6307748d0>"
      ]
     },
     "execution_count": 47,
     "metadata": {},
     "output_type": "execute_result"
    },
    {
     "data": {
      "image/png": "[encoded data removed]",
      "text/plain": [
       "<Figure size 432x288 with 1 Axes>"
      ]
     },
     "metadata": {
      "needs_background": "light"
     },
     "output_type": "display_data"
    }
   ],
   "source": [
    "sns.countplot(df['attr2'])\n"
   ]
  },
  {
   "cell_type": "code",
   "execution_count": 48,
   "metadata": {},
   "outputs": [
    {
     "data": {
      "text/plain": [
       "<matplotlib.axes._subplots.AxesSubplot at 0x1f6308d16d8>"
      ]
     },
     "execution_count": 48,
     "metadata": {},
     "output_type": "execute_result"
    },
    {
     "data": {
      "image/png": "[encoded data removed]",
      "text/plain": [
       "<Figure size 432x288 with 1 Axes>"
      ]
     },
     "metadata": {
      "needs_background": "light"
     },
     "output_type": "display_data"
    }
   ],
   "source": [
    "df.loc[df.attr2 == 25,'attr2'] = 23\n",
    "\n",
    "sns.countplot(df['attr2'])"
   ]
  },
  {
   "cell_type": "code",
   "execution_count": 49,
   "metadata": {},
   "outputs": [
    {
     "data": {
      "text/plain": [
       "<matplotlib.axes._subplots.AxesSubplot at 0x1f6309a82e8>"
      ]
     },
     "execution_count": 49,
     "metadata": {},
     "output_type": "execute_result"
    },
    {
     "data": {
      "image/png": "[encoded data removed]",
      "text/plain": [
       "<Figure size 432x288 with 1 Axes>"
      ]
     },
     "metadata": {
      "needs_background": "light"
     },
     "output_type": "display_data"
    }
   ],
   "source": [
    "df.loc[(df.attr6 == 1) | (df.attr6 == 2),'attr6'] = 0\n",
    "\n",
    "sns.countplot(df['attr6'])"
   ]
  },
  {
   "cell_type": "code",
   "execution_count": 50,
   "metadata": {},
   "outputs": [
    {
     "data": {
      "text/plain": [
       "<matplotlib.axes._subplots.AxesSubplot at 0x1f6309fa9b0>"
      ]
     },
     "execution_count": 50,
     "metadata": {},
     "output_type": "execute_result"
    },
    {
     "data": {
      "image/png": "[encoded data removed]",
      "text/plain": [
       "<Figure size 432x288 with 1 Axes>"
      ]
     },
     "metadata": {
      "needs_background": "light"
     },
     "output_type": "display_data"
    }
   ],
   "source": [
    "df.loc[(df.attr6 == 3),'attr6'] = 1\n",
    "sns.countplot(df['attr6'])"
   ]
  },
  {
   "cell_type": "code",
   "execution_count": 51,
   "metadata": {},
   "outputs": [
    {
     "data": {
      "text/html": [
       "<div>\n",
       "<style scoped>\n",
       "    .dataframe tbody tr th:only-of-type {\n",
       "        vertical-align: middle;\n",
       "    }\n",
       "\n",
       "    .dataframe tbody tr th {\n",
       "        vertical-align: top;\n",
       "    }\n",
       "\n",
       "    .dataframe thead th {\n",
       "        text-align: right;\n",
       "    }\n",
       "</style>\n",
       "<table border=\"1\" class=\"dataframe\">\n",
       "  <thead>\n",
       "    <tr style=\"text-align: right;\">\n",
       "      <th></th>\n",
       "      <th>attr1</th>\n",
       "      <th>attr2</th>\n",
       "      <th>attr3</th>\n",
       "      <th>attr4</th>\n",
       "      <th>attr5</th>\n",
       "      <th>attr6</th>\n",
       "    </tr>\n",
       "  </thead>\n",
       "  <tbody>\n",
       "    <tr>\n",
       "      <th>0</th>\n",
       "      <td>2</td>\n",
       "      <td>15</td>\n",
       "      <td>3</td>\n",
       "      <td>1</td>\n",
       "      <td>17</td>\n",
       "      <td>1</td>\n",
       "    </tr>\n",
       "    <tr>\n",
       "      <th>1</th>\n",
       "      <td>1</td>\n",
       "      <td>23</td>\n",
       "      <td>3</td>\n",
       "      <td>2</td>\n",
       "      <td>49</td>\n",
       "      <td>1</td>\n",
       "    </tr>\n",
       "    <tr>\n",
       "      <th>2</th>\n",
       "      <td>1</td>\n",
       "      <td>5</td>\n",
       "      <td>2</td>\n",
       "      <td>2</td>\n",
       "      <td>33</td>\n",
       "      <td>1</td>\n",
       "    </tr>\n",
       "    <tr>\n",
       "      <th>3</th>\n",
       "      <td>2</td>\n",
       "      <td>7</td>\n",
       "      <td>11</td>\n",
       "      <td>2</td>\n",
       "      <td>55</td>\n",
       "      <td>1</td>\n",
       "    </tr>\n",
       "    <tr>\n",
       "      <th>4</th>\n",
       "      <td>2</td>\n",
       "      <td>23</td>\n",
       "      <td>3</td>\n",
       "      <td>1</td>\n",
       "      <td>20</td>\n",
       "      <td>1</td>\n",
       "    </tr>\n",
       "  </tbody>\n",
       "</table>\n",
       "</div>"
      ],
      "text/plain": [
       "   attr1  attr2  attr3  attr4  attr5  attr6\n",
       "0      2     15      3      1     17      1\n",
       "1      1     23      3      2     49      1\n",
       "2      1      5      2      2     33      1\n",
       "3      2      7     11      2     55      1\n",
       "4      2     23      3      1     20      1"
      ]
     },
     "execution_count": 51,
     "metadata": {},
     "output_type": "execute_result"
    }
   ],
   "source": [
    "df.head()"
   ]
  },
  {
   "cell_type": "markdown",
   "metadata": {},
   "source": [
    "## Q3"
   ]
  },
  {
   "cell_type": "code",
   "execution_count": 52,
   "metadata": {},
   "outputs": [
    {
     "data": {
      "text/html": [
       "<div>\n",
       "<style scoped>\n",
       "    .dataframe tbody tr th:only-of-type {\n",
       "        vertical-align: middle;\n",
       "    }\n",
       "\n",
       "    .dataframe tbody tr th {\n",
       "        vertical-align: top;\n",
       "    }\n",
       "\n",
       "    .dataframe thead th {\n",
       "        text-align: right;\n",
       "    }\n",
       "</style>\n",
       "<table border=\"1\" class=\"dataframe\">\n",
       "  <thead>\n",
       "    <tr style=\"text-align: right;\">\n",
       "      <th></th>\n",
       "      <th>attr1</th>\n",
       "      <th>attr4</th>\n",
       "      <th>attr5</th>\n",
       "      <th>attr6</th>\n",
       "      <th>2</th>\n",
       "      <th>3</th>\n",
       "      <th>4</th>\n",
       "      <th>5</th>\n",
       "      <th>6</th>\n",
       "      <th>7</th>\n",
       "      <th>...</th>\n",
       "      <th>17</th>\n",
       "      <th>18</th>\n",
       "      <th>19</th>\n",
       "      <th>20</th>\n",
       "      <th>21</th>\n",
       "      <th>22</th>\n",
       "      <th>23</th>\n",
       "      <th>24</th>\n",
       "      <th>25</th>\n",
       "      <th>26</th>\n",
       "    </tr>\n",
       "  </thead>\n",
       "  <tbody>\n",
       "    <tr>\n",
       "      <th>0</th>\n",
       "      <td>0</td>\n",
       "      <td>1</td>\n",
       "      <td>17</td>\n",
       "      <td>1</td>\n",
       "      <td>0</td>\n",
       "      <td>0</td>\n",
       "      <td>0</td>\n",
       "      <td>0</td>\n",
       "      <td>0</td>\n",
       "      <td>0</td>\n",
       "      <td>...</td>\n",
       "      <td>0</td>\n",
       "      <td>0</td>\n",
       "      <td>0</td>\n",
       "      <td>0</td>\n",
       "      <td>0</td>\n",
       "      <td>0</td>\n",
       "      <td>0</td>\n",
       "      <td>0</td>\n",
       "      <td>0</td>\n",
       "      <td>0</td>\n",
       "    </tr>\n",
       "    <tr>\n",
       "      <th>1</th>\n",
       "      <td>1</td>\n",
       "      <td>0</td>\n",
       "      <td>49</td>\n",
       "      <td>1</td>\n",
       "      <td>0</td>\n",
       "      <td>0</td>\n",
       "      <td>0</td>\n",
       "      <td>0</td>\n",
       "      <td>0</td>\n",
       "      <td>0</td>\n",
       "      <td>...</td>\n",
       "      <td>0</td>\n",
       "      <td>0</td>\n",
       "      <td>0</td>\n",
       "      <td>0</td>\n",
       "      <td>0</td>\n",
       "      <td>0</td>\n",
       "      <td>0</td>\n",
       "      <td>0</td>\n",
       "      <td>0</td>\n",
       "      <td>0</td>\n",
       "    </tr>\n",
       "    <tr>\n",
       "      <th>2</th>\n",
       "      <td>1</td>\n",
       "      <td>0</td>\n",
       "      <td>33</td>\n",
       "      <td>1</td>\n",
       "      <td>0</td>\n",
       "      <td>0</td>\n",
       "      <td>0</td>\n",
       "      <td>1</td>\n",
       "      <td>0</td>\n",
       "      <td>0</td>\n",
       "      <td>...</td>\n",
       "      <td>0</td>\n",
       "      <td>0</td>\n",
       "      <td>0</td>\n",
       "      <td>0</td>\n",
       "      <td>0</td>\n",
       "      <td>0</td>\n",
       "      <td>0</td>\n",
       "      <td>0</td>\n",
       "      <td>0</td>\n",
       "      <td>0</td>\n",
       "    </tr>\n",
       "    <tr>\n",
       "      <th>3</th>\n",
       "      <td>0</td>\n",
       "      <td>0</td>\n",
       "      <td>55</td>\n",
       "      <td>1</td>\n",
       "      <td>0</td>\n",
       "      <td>0</td>\n",
       "      <td>0</td>\n",
       "      <td>0</td>\n",
       "      <td>0</td>\n",
       "      <td>1</td>\n",
       "      <td>...</td>\n",
       "      <td>0</td>\n",
       "      <td>0</td>\n",
       "      <td>0</td>\n",
       "      <td>0</td>\n",
       "      <td>0</td>\n",
       "      <td>0</td>\n",
       "      <td>0</td>\n",
       "      <td>0</td>\n",
       "      <td>0</td>\n",
       "      <td>0</td>\n",
       "    </tr>\n",
       "    <tr>\n",
       "      <th>4</th>\n",
       "      <td>0</td>\n",
       "      <td>1</td>\n",
       "      <td>20</td>\n",
       "      <td>1</td>\n",
       "      <td>0</td>\n",
       "      <td>0</td>\n",
       "      <td>0</td>\n",
       "      <td>0</td>\n",
       "      <td>0</td>\n",
       "      <td>0</td>\n",
       "      <td>...</td>\n",
       "      <td>0</td>\n",
       "      <td>0</td>\n",
       "      <td>0</td>\n",
       "      <td>0</td>\n",
       "      <td>0</td>\n",
       "      <td>0</td>\n",
       "      <td>0</td>\n",
       "      <td>0</td>\n",
       "      <td>0</td>\n",
       "      <td>0</td>\n",
       "    </tr>\n",
       "  </tbody>\n",
       "</table>\n",
       "<p>5 rows × 52 columns</p>\n",
       "</div>"
      ],
      "text/plain": [
       "   attr1  attr4  attr5  attr6  2  3  4  5  6  7  ...  17  18  19  20  21  22  \\\n",
       "0      0      1     17      1  0  0  0  0  0  0  ...   0   0   0   0   0   0   \n",
       "1      1      0     49      1  0  0  0  0  0  0  ...   0   0   0   0   0   0   \n",
       "2      1      0     33      1  0  0  0  1  0  0  ...   0   0   0   0   0   0   \n",
       "3      0      0     55      1  0  0  0  0  0  1  ...   0   0   0   0   0   0   \n",
       "4      0      1     20      1  0  0  0  0  0  0  ...   0   0   0   0   0   0   \n",
       "\n",
       "   23  24  25  26  \n",
       "0   0   0   0   0  \n",
       "1   0   0   0   0  \n",
       "2   0   0   0   0  \n",
       "3   0   0   0   0  \n",
       "4   0   0   0   0  \n",
       "\n",
       "[5 rows x 52 columns]"
      ]
     },
     "execution_count": 52,
     "metadata": {},
     "output_type": "execute_result"
    }
   ],
   "source": [
    "dfa= df.copy()\n",
    "dfa.drop(dfa.columns[[1,2]],axis=1, inplace = True)\n",
    "\n",
    "df_2 = pd.get_dummies(df['attr2'], drop_first=True)\n",
    "df_3 = pd.get_dummies(df['attr3'], drop_first=True)\n",
    "df_new = pd.concat([dfa, df_2,df_3], axis=1)\n",
    "df_new.loc[(df_new.attr1 == 2),'attr1'] = 0\n",
    "df_new.loc[(df_new.attr4 == 2),'attr4'] = 0\n",
    "df_new.head()"
   ]
  },
  {
   "cell_type": "code",
   "execution_count": 54,
   "metadata": {},
   "outputs": [
    {
     "name": "stderr",
     "output_type": "stream",
     "text": [
      "C:\\Users\\Adil Ashish Kumar\\Anaconda3\\lib\\site-packages\\sklearn\\preprocessing\\data.py:645: DataConversionWarning: Data with input dtype uint8, int64 were all converted to float64 by StandardScaler.\n",
      "  return self.partial_fit(X, y)\n",
      "C:\\Users\\Adil Ashish Kumar\\Anaconda3\\lib\\site-packages\\ipykernel_launcher.py:11: DataConversionWarning: Data with input dtype uint8, int64 were all converted to float64 by StandardScaler.\n",
      "  # This is added back by InteractiveShellApp.init_path()\n"
     ]
    },
    {
     "data": {
      "text/plain": [
       "0    1\n",
       "1    1\n",
       "2    1\n",
       "3    1\n",
       "4    1\n",
       "Name: attr6, dtype: int64"
      ]
     },
     "execution_count": 54,
     "metadata": {},
     "output_type": "execute_result"
    }
   ],
   "source": [
    "from sklearn.preprocessing import StandardScaler\n",
    "y = df_new['attr6']\n",
    "X = df_new.copy()\n",
    "X.drop(X.columns[[3]],axis=1, inplace = True)# Features\n",
    " # Target variable\n",
    "\n",
    "#Normalize Data\n",
    "sc = StandardScaler()\n",
    "#sc.fit(X_train)\n",
    "sc.fit(X)\n",
    "X_std = sc.transform(X)\n",
    "\n",
    "y.head()"
   ]
  },
  {
   "cell_type": "code",
   "execution_count": 58,
   "metadata": {},
   "outputs": [
    {
     "data": {
      "text/plain": [
       "array([[-0.47907014,  2.41209076, -0.84878666, ..., -0.08192319,\n",
       "        -0.14285714, -0.08192319],\n",
       "       [ 2.08737703, -0.4145781 ,  1.63698268, ..., -0.08192319,\n",
       "        -0.14285714, -0.08192319],\n",
       "       [ 2.08737703, -0.4145781 ,  0.39409801, ..., -0.08192319,\n",
       "        -0.14285714, -0.08192319],\n",
       "       ...,\n",
       "       [ 2.08737703, -0.4145781 ,  1.55930239, ..., -0.08192319,\n",
       "        -0.14285714, -0.08192319],\n",
       "       [-0.47907014, -0.4145781 ,  1.79234327, ..., -0.08192319,\n",
       "        -0.14285714, -0.08192319],\n",
       "       [-0.47907014, -0.4145781 , -0.07198374, ..., -0.08192319,\n",
       "        -0.14285714, -0.08192319]])"
      ]
     },
     "execution_count": 58,
     "metadata": {},
     "output_type": "execute_result"
    }
   ],
   "source": [
    "X_std"
   ]
  },
  {
   "cell_type": "markdown",
   "metadata": {},
   "source": [
    "## Q4"
   ]
  },
  {
   "cell_type": "code",
   "execution_count": 93,
   "metadata": {},
   "outputs": [
    {
     "name": "stdout",
     "output_type": "stream",
     "text": [
      "The accuracy score of clf model is 0.7555555555555555\n",
      "The precision score of clf model is 0.5\n",
      "The recall score of clf model is 0.45454545454545453\n",
      "The F measure of clf model is 0.47619047619047616\n",
      "MCC is 0.3178542458730997\n"
     ]
    }
   ],
   "source": [
    "from sklearn.metrics import matthews_corrcoef\n",
    "import scipy as sp # sp is an alias pointing to scipy\n",
    "from sklearn.tree import DecisionTreeClassifier # Import Decision Tree Classifier\n",
    "from sklearn.model_selection import train_test_split # Import train_test_split function\n",
    "from sklearn import metrics #Import scikit-learn metrics module for accuracy calculation\n",
    "from sklearn.metrics import accuracy_score\n",
    "from sklearn.metrics import f1_score\n",
    "from sklearn.metrics import precision_score\n",
    "from sklearn.metrics import recall_score\n",
    "\n",
    "# Split dataset into training set and test set\n",
    "X_train, X_test, y_train, y_test = train_test_split(X_std, y, test_size=0.3, random_state=32) # 70% training and 30% test\n",
    "\n",
    "# Create Decision Tree classifer object\n",
    "clf = DecisionTreeClassifier(max_depth=6,random_state=32,criterion=\"entropy\")\n",
    "#Predict the response for test dataset\n",
    "y_pred = clf.fit(X_train,y_train).predict(X_test)\n",
    "clf_A = accuracy_score(y_test,y_pred)\n",
    "clf_P = precision_score(y_test,y_pred)\n",
    "clf_R = recall_score(y_test,y_pred)\n",
    "clf_F = f1_score(y_test,y_pred)\n",
    "a = matthews_corrcoef(y_test, y_pred)\n",
    "\n",
    "print(\"The accuracy score of clf model is \" + str(clf_A))    \n",
    "print(\"The precision score of clf model is \" + str(clf_P))\n",
    "print(\"The recall score of clf model is \" + str(clf_R))\n",
    "print(\"The F measure of clf model is \" + str(clf_F))\n",
    "print(\"MCC is \" + str(a))"
   ]
  },
  {
   "cell_type": "code",
   "execution_count": 61,
   "metadata": {},
   "outputs": [
    {
     "name": "stdout",
     "output_type": "stream",
     "text": [
      "Performance: 0.766 (+/- 0.253)\n"
     ]
    }
   ],
   "source": [
    "from sklearn.model_selection import cross_val_score\n",
    "#Decision tree Regression Model\n",
    "from sklearn.tree import DecisionTreeClassifier # Import Decision Tree Classifier\n",
    "tree = DecisionTreeClassifier(max_depth=6,random_state=32,criterion=\"entropy\")\n",
    "scores_tree = cross_val_score(tree, X_std, y, cv=10)\n",
    "print(\"Performance: %0.3f (+/- %0.3f)\" % (scores_tree.mean(), scores_tree.std() * 2))"
   ]
  },
  {
   "cell_type": "code",
   "execution_count": 63,
   "metadata": {},
   "outputs": [
    {
     "data": {
      "image/svg+xml": [
       "<?xml version=\"1.0\" encoding=\"UTF-8\" standalone=\"no\"?>\r\n",
       "<!DOCTYPE svg PUBLIC \"-//W3C//DTD SVG 1.1//EN\"\r\n",
       " \"http://www.w3.org/Graphics/SVG/1.1/DTD/svg11.dtd\">\r\n",
       "<!-- Generated by graphviz version 2.38.0 (20140413.2041)\r\n",
       " -->\r\n",
       "<!-- Title: Tree Pages: 1 -->\r\n",
       "<svg width=\"903pt\" height=\"661pt\"\r\n",
       " viewBox=\"0.00 0.00 903.00 661.00\" xmlns=\"http://www.w3.org/2000/svg\" xmlns:xlink=\"http://www.w3.org/1999/xlink\">\r\n",
       "<g id=\"graph0\" class=\"graph\" transform=\"scale(1 1) rotate(0) translate(4 657)\">\r\n",
       "<title>Tree</title>\r\n",
       "<polygon fill=\"white\" stroke=\"none\" points=\"-4,4 -4,-657 899,-657 899,4 -4,4\"/>\r\n",
       "<!-- 0 -->\r\n",
       "<g id=\"node1\" class=\"node\"><title>0</title>\r\n",
       "<path fill=\"#e58139\" fill-opacity=\"0.384314\" stroke=\"black\" d=\"M577,-653C577,-653 485,-653 485,-653 479,-653 473,-647 473,-641 473,-641 473,-601 473,-601 473,-595 479,-589 485,-589 485,-589 577,-589 577,-589 583,-589 589,-595 589,-601 589,-601 589,-641 589,-641 589,-647 583,-653 577,-653\"/>\r\n",
       "<text text-anchor=\"start\" x=\"496.5\" y=\"-638.8\" font-family=\"Helvetica,sans-Serif\" font-size=\"14.00\">X</text>\r\n",
       "<text text-anchor=\"start\" x=\"506.5\" y=\"-638.8\" font-family=\"Helvetica,sans-Serif\" baseline-shift=\"sub\" font-size=\"14.00\">0</text>\r\n",
       "<text text-anchor=\"start\" x=\"513.5\" y=\"-638.8\" font-family=\"Helvetica,sans-Serif\" font-size=\"14.00\"> ≤ 0.804</text>\r\n",
       "<text text-anchor=\"start\" x=\"481\" y=\"-624.8\" font-family=\"Helvetica,sans-Serif\" font-size=\"14.00\">entropy = 0.959</text>\r\n",
       "<text text-anchor=\"start\" x=\"483.5\" y=\"-610.8\" font-family=\"Helvetica,sans-Serif\" font-size=\"14.00\">samples = 105</text>\r\n",
       "<text text-anchor=\"start\" x=\"482.5\" y=\"-596.8\" font-family=\"Helvetica,sans-Serif\" font-size=\"14.00\">value = [65, 40]</text>\r\n",
       "</g>\r\n",
       "<!-- 1 -->\r\n",
       "<g id=\"node2\" class=\"node\"><title>1</title>\r\n",
       "<path fill=\"#e58139\" fill-opacity=\"0.552941\" stroke=\"black\" d=\"M510,-553C510,-553 418,-553 418,-553 412,-553 406,-547 406,-541 406,-541 406,-501 406,-501 406,-495 412,-489 418,-489 418,-489 510,-489 510,-489 516,-489 522,-495 522,-501 522,-501 522,-541 522,-541 522,-547 516,-553 510,-553\"/>\r\n",
       "<text text-anchor=\"start\" x=\"429.5\" y=\"-538.8\" font-family=\"Helvetica,sans-Serif\" font-size=\"14.00\">X</text>\r\n",
       "<text text-anchor=\"start\" x=\"439.5\" y=\"-538.8\" font-family=\"Helvetica,sans-Serif\" baseline-shift=\"sub\" font-size=\"14.00\">1</text>\r\n",
       "<text text-anchor=\"start\" x=\"446.5\" y=\"-538.8\" font-family=\"Helvetica,sans-Serif\" font-size=\"14.00\"> ≤ 0.999</text>\r\n",
       "<text text-anchor=\"start\" x=\"414\" y=\"-524.8\" font-family=\"Helvetica,sans-Serif\" font-size=\"14.00\">entropy = 0.893</text>\r\n",
       "<text text-anchor=\"start\" x=\"420.5\" y=\"-510.8\" font-family=\"Helvetica,sans-Serif\" font-size=\"14.00\">samples = 84</text>\r\n",
       "<text text-anchor=\"start\" x=\"415.5\" y=\"-496.8\" font-family=\"Helvetica,sans-Serif\" font-size=\"14.00\">value = [58, 26]</text>\r\n",
       "</g>\r\n",
       "<!-- 0&#45;&gt;1 -->\r\n",
       "<g id=\"edge1\" class=\"edge\"><title>0&#45;&gt;1</title>\r\n",
       "<path fill=\"none\" stroke=\"black\" d=\"M509.801,-588.992C503.813,-580.234 497.216,-570.585 490.939,-561.404\"/>\r\n",
       "<polygon fill=\"black\" stroke=\"black\" points=\"493.824,-559.422 485.291,-553.142 488.046,-563.373 493.824,-559.422\"/>\r\n",
       "<text text-anchor=\"middle\" x=\"480.675\" y=\"-574.013\" font-family=\"Helvetica,sans-Serif\" font-size=\"14.00\">True</text>\r\n",
       "</g>\r\n",
       "<!-- 18 -->\r\n",
       "<g id=\"node19\" class=\"node\"><title>18</title>\r\n",
       "<path fill=\"#399de5\" fill-opacity=\"0.498039\" stroke=\"black\" d=\"M644,-553C644,-553 552,-553 552,-553 546,-553 540,-547 540,-541 540,-541 540,-501 540,-501 540,-495 546,-489 552,-489 552,-489 644,-489 644,-489 650,-489 656,-495 656,-501 656,-501 656,-541 656,-541 656,-547 650,-553 644,-553\"/>\r\n",
       "<text text-anchor=\"start\" x=\"561\" y=\"-538.8\" font-family=\"Helvetica,sans-Serif\" font-size=\"14.00\">X</text>\r\n",
       "<text text-anchor=\"start\" x=\"571\" y=\"-538.8\" font-family=\"Helvetica,sans-Serif\" baseline-shift=\"sub\" font-size=\"14.00\">2</text>\r\n",
       "<text text-anchor=\"start\" x=\"578\" y=\"-538.8\" font-family=\"Helvetica,sans-Serif\" font-size=\"14.00\"> ≤ &#45;0.926</text>\r\n",
       "<text text-anchor=\"start\" x=\"548\" y=\"-524.8\" font-family=\"Helvetica,sans-Serif\" font-size=\"14.00\">entropy = 0.918</text>\r\n",
       "<text text-anchor=\"start\" x=\"554.5\" y=\"-510.8\" font-family=\"Helvetica,sans-Serif\" font-size=\"14.00\">samples = 21</text>\r\n",
       "<text text-anchor=\"start\" x=\"553.5\" y=\"-496.8\" font-family=\"Helvetica,sans-Serif\" font-size=\"14.00\">value = [7, 14]</text>\r\n",
       "</g>\r\n",
       "<!-- 0&#45;&gt;18 -->\r\n",
       "<g id=\"edge18\" class=\"edge\"><title>0&#45;&gt;18</title>\r\n",
       "<path fill=\"none\" stroke=\"black\" d=\"M552.199,-588.992C558.187,-580.234 564.784,-570.585 571.061,-561.404\"/>\r\n",
       "<polygon fill=\"black\" stroke=\"black\" points=\"573.954,-563.373 576.709,-553.142 568.176,-559.422 573.954,-563.373\"/>\r\n",
       "<text text-anchor=\"middle\" x=\"581.325\" y=\"-574.013\" font-family=\"Helvetica,sans-Serif\" font-size=\"14.00\">False</text>\r\n",
       "</g>\r\n",
       "<!-- 2 -->\r\n",
       "<g id=\"node3\" class=\"node\"><title>2</title>\r\n",
       "<path fill=\"#e58139\" fill-opacity=\"0.654902\" stroke=\"black\" d=\"M378,-453C378,-453 286,-453 286,-453 280,-453 274,-447 274,-441 274,-441 274,-401 274,-401 274,-395 280,-389 286,-389 286,-389 378,-389 378,-389 384,-389 390,-395 390,-401 390,-401 390,-441 390,-441 390,-447 384,-453 378,-453\"/>\r\n",
       "<text text-anchor=\"start\" x=\"294\" y=\"-438.8\" font-family=\"Helvetica,sans-Serif\" font-size=\"14.00\">X</text>\r\n",
       "<text text-anchor=\"start\" x=\"304\" y=\"-438.8\" font-family=\"Helvetica,sans-Serif\" baseline-shift=\"sub\" font-size=\"14.00\">46</text>\r\n",
       "<text text-anchor=\"start\" x=\"318\" y=\"-438.8\" font-family=\"Helvetica,sans-Serif\" font-size=\"14.00\"> ≤ 3.429</text>\r\n",
       "<text text-anchor=\"start\" x=\"282\" y=\"-424.8\" font-family=\"Helvetica,sans-Serif\" font-size=\"14.00\">entropy = 0.822</text>\r\n",
       "<text text-anchor=\"start\" x=\"288.5\" y=\"-410.8\" font-family=\"Helvetica,sans-Serif\" font-size=\"14.00\">samples = 74</text>\r\n",
       "<text text-anchor=\"start\" x=\"283.5\" y=\"-396.8\" font-family=\"Helvetica,sans-Serif\" font-size=\"14.00\">value = [55, 19]</text>\r\n",
       "</g>\r\n",
       "<!-- 1&#45;&gt;2 -->\r\n",
       "<g id=\"edge2\" class=\"edge\"><title>1&#45;&gt;2</title>\r\n",
       "<path fill=\"none\" stroke=\"black\" d=\"M422.234,-488.992C409.474,-479.519 395.311,-469.004 382.059,-459.165\"/>\r\n",
       "<polygon fill=\"black\" stroke=\"black\" points=\"384.062,-456.293 373.947,-453.142 379.89,-461.914 384.062,-456.293\"/>\r\n",
       "</g>\r\n",
       "<!-- 11 -->\r\n",
       "<g id=\"node12\" class=\"node\"><title>11</title>\r\n",
       "<path fill=\"#399de5\" fill-opacity=\"0.572549\" stroke=\"black\" d=\"M512,-453C512,-453 420,-453 420,-453 414,-453 408,-447 408,-441 408,-441 408,-401 408,-401 408,-395 414,-389 420,-389 420,-389 512,-389 512,-389 518,-389 524,-395 524,-401 524,-401 524,-441 524,-441 524,-447 518,-453 512,-453\"/>\r\n",
       "<text text-anchor=\"start\" x=\"429\" y=\"-438.8\" font-family=\"Helvetica,sans-Serif\" font-size=\"14.00\">X</text>\r\n",
       "<text text-anchor=\"start\" x=\"439\" y=\"-438.8\" font-family=\"Helvetica,sans-Serif\" baseline-shift=\"sub\" font-size=\"14.00\">2</text>\r\n",
       "<text text-anchor=\"start\" x=\"446\" y=\"-438.8\" font-family=\"Helvetica,sans-Serif\" font-size=\"14.00\"> ≤ &#45;1.354</text>\r\n",
       "<text text-anchor=\"start\" x=\"416\" y=\"-424.8\" font-family=\"Helvetica,sans-Serif\" font-size=\"14.00\">entropy = 0.881</text>\r\n",
       "<text text-anchor=\"start\" x=\"422.5\" y=\"-410.8\" font-family=\"Helvetica,sans-Serif\" font-size=\"14.00\">samples = 10</text>\r\n",
       "<text text-anchor=\"start\" x=\"425.5\" y=\"-396.8\" font-family=\"Helvetica,sans-Serif\" font-size=\"14.00\">value = [3, 7]</text>\r\n",
       "</g>\r\n",
       "<!-- 1&#45;&gt;11 -->\r\n",
       "<g id=\"edge11\" class=\"edge\"><title>1&#45;&gt;11</title>\r\n",
       "<path fill=\"none\" stroke=\"black\" d=\"M464.633,-488.992C464.799,-480.859 464.98,-471.959 465.156,-463.378\"/>\r\n",
       "<polygon fill=\"black\" stroke=\"black\" points=\"468.66,-463.212 465.364,-453.142 461.661,-463.069 468.66,-463.212\"/>\r\n",
       "</g>\r\n",
       "<!-- 3 -->\r\n",
       "<g id=\"node4\" class=\"node\"><title>3</title>\r\n",
       "<path fill=\"#e58139\" fill-opacity=\"0.709804\" stroke=\"black\" d=\"M254.5,-353C254.5,-353 165.5,-353 165.5,-353 159.5,-353 153.5,-347 153.5,-341 153.5,-341 153.5,-301 153.5,-301 153.5,-295 159.5,-289 165.5,-289 165.5,-289 254.5,-289 254.5,-289 260.5,-289 266.5,-295 266.5,-301 266.5,-301 266.5,-341 266.5,-341 266.5,-347 260.5,-353 254.5,-353\"/>\r\n",
       "<text text-anchor=\"start\" x=\"172\" y=\"-338.8\" font-family=\"Helvetica,sans-Serif\" font-size=\"14.00\">X</text>\r\n",
       "<text text-anchor=\"start\" x=\"182\" y=\"-338.8\" font-family=\"Helvetica,sans-Serif\" baseline-shift=\"sub\" font-size=\"14.00\">45</text>\r\n",
       "<text text-anchor=\"start\" x=\"196\" y=\"-338.8\" font-family=\"Helvetica,sans-Serif\" font-size=\"14.00\"> ≤ 3.429</text>\r\n",
       "<text text-anchor=\"start\" x=\"164\" y=\"-324.8\" font-family=\"Helvetica,sans-Serif\" font-size=\"14.00\">entropy = 0.77</text>\r\n",
       "<text text-anchor=\"start\" x=\"166.5\" y=\"-310.8\" font-family=\"Helvetica,sans-Serif\" font-size=\"14.00\">samples = 71</text>\r\n",
       "<text text-anchor=\"start\" x=\"161.5\" y=\"-296.8\" font-family=\"Helvetica,sans-Serif\" font-size=\"14.00\">value = [55, 16]</text>\r\n",
       "</g>\r\n",
       "<!-- 2&#45;&gt;3 -->\r\n",
       "<g id=\"edge3\" class=\"edge\"><title>2&#45;&gt;3</title>\r\n",
       "<path fill=\"none\" stroke=\"black\" d=\"M293.398,-388.992C281.716,-379.608 268.762,-369.202 256.614,-359.444\"/>\r\n",
       "<polygon fill=\"black\" stroke=\"black\" points=\"258.757,-356.676 248.769,-353.142 254.374,-362.134 258.757,-356.676\"/>\r\n",
       "</g>\r\n",
       "<!-- 10 -->\r\n",
       "<g id=\"node11\" class=\"node\"><title>10</title>\r\n",
       "<path fill=\"#399de5\" stroke=\"black\" d=\"M373,-347.5C373,-347.5 297,-347.5 297,-347.5 291,-347.5 285,-341.5 285,-335.5 285,-335.5 285,-306.5 285,-306.5 285,-300.5 291,-294.5 297,-294.5 297,-294.5 373,-294.5 373,-294.5 379,-294.5 385,-300.5 385,-306.5 385,-306.5 385,-335.5 385,-335.5 385,-341.5 379,-347.5 373,-347.5\"/>\r\n",
       "<text text-anchor=\"start\" x=\"293\" y=\"-332.3\" font-family=\"Helvetica,sans-Serif\" font-size=\"14.00\">entropy = 0.0</text>\r\n",
       "<text text-anchor=\"start\" x=\"295.5\" y=\"-317.3\" font-family=\"Helvetica,sans-Serif\" font-size=\"14.00\">samples = 3</text>\r\n",
       "<text text-anchor=\"start\" x=\"294.5\" y=\"-302.3\" font-family=\"Helvetica,sans-Serif\" font-size=\"14.00\">value = [0, 3]</text>\r\n",
       "</g>\r\n",
       "<!-- 2&#45;&gt;10 -->\r\n",
       "<g id=\"edge10\" class=\"edge\"><title>2&#45;&gt;10</title>\r\n",
       "<path fill=\"none\" stroke=\"black\" d=\"M332.949,-388.992C333.252,-379.087 333.591,-368.042 333.903,-357.824\"/>\r\n",
       "<polygon fill=\"black\" stroke=\"black\" points=\"337.41,-357.659 334.218,-347.556 330.413,-357.445 337.41,-357.659\"/>\r\n",
       "</g>\r\n",
       "<!-- 4 -->\r\n",
       "<g id=\"node5\" class=\"node\"><title>4</title>\r\n",
       "<path fill=\"#e58139\" fill-opacity=\"0.764706\" stroke=\"black\" d=\"M225,-253C225,-253 133,-253 133,-253 127,-253 121,-247 121,-241 121,-241 121,-201 121,-201 121,-195 127,-189 133,-189 133,-189 225,-189 225,-189 231,-189 237,-195 237,-201 237,-201 237,-241 237,-241 237,-247 231,-253 225,-253\"/>\r\n",
       "<text text-anchor=\"start\" x=\"144.5\" y=\"-238.8\" font-family=\"Helvetica,sans-Serif\" font-size=\"14.00\">X</text>\r\n",
       "<text text-anchor=\"start\" x=\"154.5\" y=\"-238.8\" font-family=\"Helvetica,sans-Serif\" baseline-shift=\"sub\" font-size=\"14.00\">2</text>\r\n",
       "<text text-anchor=\"start\" x=\"161.5\" y=\"-238.8\" font-family=\"Helvetica,sans-Serif\" font-size=\"14.00\"> ≤ 1.948</text>\r\n",
       "<text text-anchor=\"start\" x=\"129\" y=\"-224.8\" font-family=\"Helvetica,sans-Serif\" font-size=\"14.00\">entropy = 0.704</text>\r\n",
       "<text text-anchor=\"start\" x=\"135.5\" y=\"-210.8\" font-family=\"Helvetica,sans-Serif\" font-size=\"14.00\">samples = 68</text>\r\n",
       "<text text-anchor=\"start\" x=\"130.5\" y=\"-196.8\" font-family=\"Helvetica,sans-Serif\" font-size=\"14.00\">value = [55, 13]</text>\r\n",
       "</g>\r\n",
       "<!-- 3&#45;&gt;4 -->\r\n",
       "<g id=\"edge4\" class=\"edge\"><title>3&#45;&gt;4</title>\r\n",
       "<path fill=\"none\" stroke=\"black\" d=\"M200.191,-288.992C197.562,-280.681 194.679,-271.567 191.91,-262.812\"/>\r\n",
       "<polygon fill=\"black\" stroke=\"black\" points=\"195.204,-261.621 188.851,-253.142 188.53,-263.732 195.204,-261.621\"/>\r\n",
       "</g>\r\n",
       "<!-- 9 -->\r\n",
       "<g id=\"node10\" class=\"node\"><title>9</title>\r\n",
       "<path fill=\"#399de5\" stroke=\"black\" d=\"M343,-247.5C343,-247.5 267,-247.5 267,-247.5 261,-247.5 255,-241.5 255,-235.5 255,-235.5 255,-206.5 255,-206.5 255,-200.5 261,-194.5 267,-194.5 267,-194.5 343,-194.5 343,-194.5 349,-194.5 355,-200.5 355,-206.5 355,-206.5 355,-235.5 355,-235.5 355,-241.5 349,-247.5 343,-247.5\"/>\r\n",
       "<text text-anchor=\"start\" x=\"263\" y=\"-232.3\" font-family=\"Helvetica,sans-Serif\" font-size=\"14.00\">entropy = 0.0</text>\r\n",
       "<text text-anchor=\"start\" x=\"265.5\" y=\"-217.3\" font-family=\"Helvetica,sans-Serif\" font-size=\"14.00\">samples = 3</text>\r\n",
       "<text text-anchor=\"start\" x=\"264.5\" y=\"-202.3\" font-family=\"Helvetica,sans-Serif\" font-size=\"14.00\">value = [0, 3]</text>\r\n",
       "</g>\r\n",
       "<!-- 3&#45;&gt;9 -->\r\n",
       "<g id=\"edge9\" class=\"edge\"><title>3&#45;&gt;9</title>\r\n",
       "<path fill=\"none\" stroke=\"black\" d=\"M240.059,-288.992C250.57,-278.148 262.405,-265.94 273.065,-254.944\"/>\r\n",
       "<polygon fill=\"black\" stroke=\"black\" points=\"275.779,-257.173 280.226,-247.556 270.753,-252.3 275.779,-257.173\"/>\r\n",
       "</g>\r\n",
       "<!-- 5 -->\r\n",
       "<g id=\"node6\" class=\"node\"><title>5</title>\r\n",
       "<path fill=\"#e58139\" fill-opacity=\"0.800000\" stroke=\"black\" d=\"M165.5,-153C165.5,-153 76.5,-153 76.5,-153 70.5,-153 64.5,-147 64.5,-141 64.5,-141 64.5,-101 64.5,-101 64.5,-95 70.5,-89 76.5,-89 76.5,-89 165.5,-89 165.5,-89 171.5,-89 177.5,-95 177.5,-101 177.5,-101 177.5,-141 177.5,-141 177.5,-147 171.5,-153 165.5,-153\"/>\r\n",
       "<text text-anchor=\"start\" x=\"83\" y=\"-138.8\" font-family=\"Helvetica,sans-Serif\" font-size=\"14.00\">X</text>\r\n",
       "<text text-anchor=\"start\" x=\"93\" y=\"-138.8\" font-family=\"Helvetica,sans-Serif\" baseline-shift=\"sub\" font-size=\"14.00\">10</text>\r\n",
       "<text text-anchor=\"start\" x=\"107\" y=\"-138.8\" font-family=\"Helvetica,sans-Serif\" font-size=\"14.00\"> ≤ 1.988</text>\r\n",
       "<text text-anchor=\"start\" x=\"75\" y=\"-124.8\" font-family=\"Helvetica,sans-Serif\" font-size=\"14.00\">entropy = 0.65</text>\r\n",
       "<text text-anchor=\"start\" x=\"77.5\" y=\"-110.8\" font-family=\"Helvetica,sans-Serif\" font-size=\"14.00\">samples = 66</text>\r\n",
       "<text text-anchor=\"start\" x=\"72.5\" y=\"-96.8\" font-family=\"Helvetica,sans-Serif\" font-size=\"14.00\">value = [55, 11]</text>\r\n",
       "</g>\r\n",
       "<!-- 4&#45;&gt;5 -->\r\n",
       "<g id=\"edge5\" class=\"edge\"><title>4&#45;&gt;5</title>\r\n",
       "<path fill=\"none\" stroke=\"black\" d=\"M160.648,-188.992C155.571,-180.413 149.987,-170.978 144.654,-161.966\"/>\r\n",
       "<polygon fill=\"black\" stroke=\"black\" points=\"147.537,-159.966 139.431,-153.142 141.512,-163.531 147.537,-159.966\"/>\r\n",
       "</g>\r\n",
       "<!-- 8 -->\r\n",
       "<g id=\"node9\" class=\"node\"><title>8</title>\r\n",
       "<path fill=\"#399de5\" stroke=\"black\" d=\"M284,-147.5C284,-147.5 208,-147.5 208,-147.5 202,-147.5 196,-141.5 196,-135.5 196,-135.5 196,-106.5 196,-106.5 196,-100.5 202,-94.5 208,-94.5 208,-94.5 284,-94.5 284,-94.5 290,-94.5 296,-100.5 296,-106.5 296,-106.5 296,-135.5 296,-135.5 296,-141.5 290,-147.5 284,-147.5\"/>\r\n",
       "<text text-anchor=\"start\" x=\"204\" y=\"-132.3\" font-family=\"Helvetica,sans-Serif\" font-size=\"14.00\">entropy = 0.0</text>\r\n",
       "<text text-anchor=\"start\" x=\"206.5\" y=\"-117.3\" font-family=\"Helvetica,sans-Serif\" font-size=\"14.00\">samples = 2</text>\r\n",
       "<text text-anchor=\"start\" x=\"205.5\" y=\"-102.3\" font-family=\"Helvetica,sans-Serif\" font-size=\"14.00\">value = [0, 2]</text>\r\n",
       "</g>\r\n",
       "<!-- 4&#45;&gt;8 -->\r\n",
       "<g id=\"edge8\" class=\"edge\"><title>4&#45;&gt;8</title>\r\n",
       "<path fill=\"none\" stroke=\"black\" d=\"M200.199,-188.992C207.399,-178.461 215.479,-166.643 222.825,-155.898\"/>\r\n",
       "<polygon fill=\"black\" stroke=\"black\" points=\"225.773,-157.787 228.528,-147.556 219.995,-153.836 225.773,-157.787\"/>\r\n",
       "</g>\r\n",
       "<!-- 6 -->\r\n",
       "<g id=\"node7\" class=\"node\"><title>6</title>\r\n",
       "<path fill=\"#e58139\" fill-opacity=\"0.847059\" stroke=\"black\" d=\"M104,-53C104,-53 12,-53 12,-53 6,-53 0,-47 0,-41 0,-41 0,-12 0,-12 0,-6 6,-0 12,-0 12,-0 104,-0 104,-0 110,-0 116,-6 116,-12 116,-12 116,-41 116,-41 116,-47 110,-53 104,-53\"/>\r\n",
       "<text text-anchor=\"start\" x=\"8\" y=\"-37.8\" font-family=\"Helvetica,sans-Serif\" font-size=\"14.00\">entropy = 0.567</text>\r\n",
       "<text text-anchor=\"start\" x=\"14.5\" y=\"-22.8\" font-family=\"Helvetica,sans-Serif\" font-size=\"14.00\">samples = 60</text>\r\n",
       "<text text-anchor=\"start\" x=\"13.5\" y=\"-7.8\" font-family=\"Helvetica,sans-Serif\" font-size=\"14.00\">value = [52, 8]</text>\r\n",
       "</g>\r\n",
       "<!-- 5&#45;&gt;6 -->\r\n",
       "<g id=\"edge6\" class=\"edge\"><title>5&#45;&gt;6</title>\r\n",
       "<path fill=\"none\" stroke=\"black\" d=\"M99.8467,-88.9415C93.8329,-80.1118 87.2531,-70.451 81.1286,-61.4586\"/>\r\n",
       "<polygon fill=\"black\" stroke=\"black\" points=\"83.9515,-59.3857 75.4294,-53.0908 78.1659,-63.3262 83.9515,-59.3857\"/>\r\n",
       "</g>\r\n",
       "<!-- 7 -->\r\n",
       "<g id=\"node8\" class=\"node\"><title>7</title>\r\n",
       "<path fill=\"none\" stroke=\"black\" d=\"M222,-53C222,-53 146,-53 146,-53 140,-53 134,-47 134,-41 134,-41 134,-12 134,-12 134,-6 140,-0 146,-0 146,-0 222,-0 222,-0 228,-0 234,-6 234,-12 234,-12 234,-41 234,-41 234,-47 228,-53 222,-53\"/>\r\n",
       "<text text-anchor=\"start\" x=\"142\" y=\"-37.8\" font-family=\"Helvetica,sans-Serif\" font-size=\"14.00\">entropy = 1.0</text>\r\n",
       "<text text-anchor=\"start\" x=\"144.5\" y=\"-22.8\" font-family=\"Helvetica,sans-Serif\" font-size=\"14.00\">samples = 6</text>\r\n",
       "<text text-anchor=\"start\" x=\"143.5\" y=\"-7.8\" font-family=\"Helvetica,sans-Serif\" font-size=\"14.00\">value = [3, 3]</text>\r\n",
       "</g>\r\n",
       "<!-- 5&#45;&gt;7 -->\r\n",
       "<g id=\"edge7\" class=\"edge\"><title>5&#45;&gt;7</title>\r\n",
       "<path fill=\"none\" stroke=\"black\" d=\"M142.153,-88.9415C148.167,-80.1118 154.747,-70.451 160.871,-61.4586\"/>\r\n",
       "<polygon fill=\"black\" stroke=\"black\" points=\"163.834,-63.3262 166.571,-53.0908 158.049,-59.3857 163.834,-63.3262\"/>\r\n",
       "</g>\r\n",
       "<!-- 12 -->\r\n",
       "<g id=\"node13\" class=\"node\"><title>12</title>\r\n",
       "<path fill=\"#e58139\" stroke=\"black\" d=\"M495,-347.5C495,-347.5 419,-347.5 419,-347.5 413,-347.5 407,-341.5 407,-335.5 407,-335.5 407,-306.5 407,-306.5 407,-300.5 413,-294.5 419,-294.5 419,-294.5 495,-294.5 495,-294.5 501,-294.5 507,-300.5 507,-306.5 507,-306.5 507,-335.5 507,-335.5 507,-341.5 501,-347.5 495,-347.5\"/>\r\n",
       "<text text-anchor=\"start\" x=\"415\" y=\"-332.3\" font-family=\"Helvetica,sans-Serif\" font-size=\"14.00\">entropy = 0.0</text>\r\n",
       "<text text-anchor=\"start\" x=\"417.5\" y=\"-317.3\" font-family=\"Helvetica,sans-Serif\" font-size=\"14.00\">samples = 1</text>\r\n",
       "<text text-anchor=\"start\" x=\"416.5\" y=\"-302.3\" font-family=\"Helvetica,sans-Serif\" font-size=\"14.00\">value = [1, 0]</text>\r\n",
       "</g>\r\n",
       "<!-- 11&#45;&gt;12 -->\r\n",
       "<g id=\"edge12\" class=\"edge\"><title>11&#45;&gt;12</title>\r\n",
       "<path fill=\"none\" stroke=\"black\" d=\"M463.152,-388.992C462.243,-379.087 461.228,-368.042 460.29,-357.824\"/>\r\n",
       "<polygon fill=\"black\" stroke=\"black\" points=\"463.747,-357.194 459.347,-347.556 456.776,-357.835 463.747,-357.194\"/>\r\n",
       "</g>\r\n",
       "<!-- 13 -->\r\n",
       "<g id=\"node14\" class=\"node\"><title>13</title>\r\n",
       "<path fill=\"#399de5\" fill-opacity=\"0.713725\" stroke=\"black\" d=\"M629,-353C629,-353 537,-353 537,-353 531,-353 525,-347 525,-341 525,-341 525,-301 525,-301 525,-295 531,-289 537,-289 537,-289 629,-289 629,-289 635,-289 641,-295 641,-301 641,-301 641,-341 641,-341 641,-347 635,-353 629,-353\"/>\r\n",
       "<text text-anchor=\"start\" x=\"545\" y=\"-338.8\" font-family=\"Helvetica,sans-Serif\" font-size=\"14.00\">X</text>\r\n",
       "<text text-anchor=\"start\" x=\"555\" y=\"-338.8\" font-family=\"Helvetica,sans-Serif\" baseline-shift=\"sub\" font-size=\"14.00\">39</text>\r\n",
       "<text text-anchor=\"start\" x=\"569\" y=\"-338.8\" font-family=\"Helvetica,sans-Serif\" font-size=\"14.00\"> ≤ 1.737</text>\r\n",
       "<text text-anchor=\"start\" x=\"533\" y=\"-324.8\" font-family=\"Helvetica,sans-Serif\" font-size=\"14.00\">entropy = 0.764</text>\r\n",
       "<text text-anchor=\"start\" x=\"543.5\" y=\"-310.8\" font-family=\"Helvetica,sans-Serif\" font-size=\"14.00\">samples = 9</text>\r\n",
       "<text text-anchor=\"start\" x=\"542.5\" y=\"-296.8\" font-family=\"Helvetica,sans-Serif\" font-size=\"14.00\">value = [2, 7]</text>\r\n",
       "</g>\r\n",
       "<!-- 11&#45;&gt;13 -->\r\n",
       "<g id=\"edge13\" class=\"edge\"><title>11&#45;&gt;13</title>\r\n",
       "<path fill=\"none\" stroke=\"black\" d=\"M503.02,-388.992C514.116,-379.698 526.41,-369.4 537.963,-359.723\"/>\r\n",
       "<polygon fill=\"black\" stroke=\"black\" points=\"540.401,-362.247 545.82,-353.142 535.906,-356.881 540.401,-362.247\"/>\r\n",
       "</g>\r\n",
       "<!-- 14 -->\r\n",
       "<g id=\"node15\" class=\"node\"><title>14</title>\r\n",
       "<path fill=\"#399de5\" fill-opacity=\"0.858824\" stroke=\"black\" d=\"M506,-253C506,-253 414,-253 414,-253 408,-253 402,-247 402,-241 402,-241 402,-201 402,-201 402,-195 408,-189 414,-189 414,-189 506,-189 506,-189 512,-189 518,-195 518,-201 518,-201 518,-241 518,-241 518,-247 512,-253 506,-253\"/>\r\n",
       "<text text-anchor=\"start\" x=\"422\" y=\"-238.8\" font-family=\"Helvetica,sans-Serif\" font-size=\"14.00\">X</text>\r\n",
       "<text text-anchor=\"start\" x=\"432\" y=\"-238.8\" font-family=\"Helvetica,sans-Serif\" baseline-shift=\"sub\" font-size=\"14.00\">24</text>\r\n",
       "<text text-anchor=\"start\" x=\"446\" y=\"-238.8\" font-family=\"Helvetica,sans-Serif\" font-size=\"14.00\"> ≤ 1.079</text>\r\n",
       "<text text-anchor=\"start\" x=\"410\" y=\"-224.8\" font-family=\"Helvetica,sans-Serif\" font-size=\"14.00\">entropy = 0.544</text>\r\n",
       "<text text-anchor=\"start\" x=\"420.5\" y=\"-210.8\" font-family=\"Helvetica,sans-Serif\" font-size=\"14.00\">samples = 8</text>\r\n",
       "<text text-anchor=\"start\" x=\"419.5\" y=\"-196.8\" font-family=\"Helvetica,sans-Serif\" font-size=\"14.00\">value = [1, 7]</text>\r\n",
       "</g>\r\n",
       "<!-- 13&#45;&gt;14 -->\r\n",
       "<g id=\"edge14\" class=\"edge\"><title>13&#45;&gt;14</title>\r\n",
       "<path fill=\"none\" stroke=\"black\" d=\"M544.082,-288.992C532.304,-279.608 519.243,-269.202 506.996,-259.444\"/>\r\n",
       "<polygon fill=\"black\" stroke=\"black\" points=\"509.089,-256.637 499.087,-253.142 504.727,-262.111 509.089,-256.637\"/>\r\n",
       "</g>\r\n",
       "<!-- 17 -->\r\n",
       "<g id=\"node18\" class=\"node\"><title>17</title>\r\n",
       "<path fill=\"#e58139\" stroke=\"black\" d=\"M624,-247.5C624,-247.5 548,-247.5 548,-247.5 542,-247.5 536,-241.5 536,-235.5 536,-235.5 536,-206.5 536,-206.5 536,-200.5 542,-194.5 548,-194.5 548,-194.5 624,-194.5 624,-194.5 630,-194.5 636,-200.5 636,-206.5 636,-206.5 636,-235.5 636,-235.5 636,-241.5 630,-247.5 624,-247.5\"/>\r\n",
       "<text text-anchor=\"start\" x=\"544\" y=\"-232.3\" font-family=\"Helvetica,sans-Serif\" font-size=\"14.00\">entropy = 0.0</text>\r\n",
       "<text text-anchor=\"start\" x=\"546.5\" y=\"-217.3\" font-family=\"Helvetica,sans-Serif\" font-size=\"14.00\">samples = 1</text>\r\n",
       "<text text-anchor=\"start\" x=\"545.5\" y=\"-202.3\" font-family=\"Helvetica,sans-Serif\" font-size=\"14.00\">value = [1, 0]</text>\r\n",
       "</g>\r\n",
       "<!-- 13&#45;&gt;17 -->\r\n",
       "<g id=\"edge17\" class=\"edge\"><title>13&#45;&gt;17</title>\r\n",
       "<path fill=\"none\" stroke=\"black\" d=\"M583.949,-288.992C584.252,-279.087 584.591,-268.042 584.903,-257.824\"/>\r\n",
       "<polygon fill=\"black\" stroke=\"black\" points=\"588.41,-257.659 585.218,-247.556 581.413,-257.445 588.41,-257.659\"/>\r\n",
       "</g>\r\n",
       "<!-- 15 -->\r\n",
       "<g id=\"node16\" class=\"node\"><title>15</title>\r\n",
       "<path fill=\"#399de5\" stroke=\"black\" d=\"M402,-147.5C402,-147.5 326,-147.5 326,-147.5 320,-147.5 314,-141.5 314,-135.5 314,-135.5 314,-106.5 314,-106.5 314,-100.5 320,-94.5 326,-94.5 326,-94.5 402,-94.5 402,-94.5 408,-94.5 414,-100.5 414,-106.5 414,-106.5 414,-135.5 414,-135.5 414,-141.5 408,-147.5 402,-147.5\"/>\r\n",
       "<text text-anchor=\"start\" x=\"322\" y=\"-132.3\" font-family=\"Helvetica,sans-Serif\" font-size=\"14.00\">entropy = 0.0</text>\r\n",
       "<text text-anchor=\"start\" x=\"324.5\" y=\"-117.3\" font-family=\"Helvetica,sans-Serif\" font-size=\"14.00\">samples = 5</text>\r\n",
       "<text text-anchor=\"start\" x=\"323.5\" y=\"-102.3\" font-family=\"Helvetica,sans-Serif\" font-size=\"14.00\">value = [0, 5]</text>\r\n",
       "</g>\r\n",
       "<!-- 14&#45;&gt;15 -->\r\n",
       "<g id=\"edge15\" class=\"edge\"><title>14&#45;&gt;15</title>\r\n",
       "<path fill=\"none\" stroke=\"black\" d=\"M429.625,-188.992C419.003,-178.148 407.043,-165.94 396.271,-154.944\"/>\r\n",
       "<polygon fill=\"black\" stroke=\"black\" points=\"398.533,-152.251 389.035,-147.556 393.532,-157.149 398.533,-152.251\"/>\r\n",
       "</g>\r\n",
       "<!-- 16 -->\r\n",
       "<g id=\"node17\" class=\"node\"><title>16</title>\r\n",
       "<path fill=\"#399de5\" fill-opacity=\"0.498039\" stroke=\"black\" d=\"M536,-147.5C536,-147.5 444,-147.5 444,-147.5 438,-147.5 432,-141.5 432,-135.5 432,-135.5 432,-106.5 432,-106.5 432,-100.5 438,-94.5 444,-94.5 444,-94.5 536,-94.5 536,-94.5 542,-94.5 548,-100.5 548,-106.5 548,-106.5 548,-135.5 548,-135.5 548,-141.5 542,-147.5 536,-147.5\"/>\r\n",
       "<text text-anchor=\"start\" x=\"440\" y=\"-132.3\" font-family=\"Helvetica,sans-Serif\" font-size=\"14.00\">entropy = 0.918</text>\r\n",
       "<text text-anchor=\"start\" x=\"450.5\" y=\"-117.3\" font-family=\"Helvetica,sans-Serif\" font-size=\"14.00\">samples = 3</text>\r\n",
       "<text text-anchor=\"start\" x=\"449.5\" y=\"-102.3\" font-family=\"Helvetica,sans-Serif\" font-size=\"14.00\">value = [1, 2]</text>\r\n",
       "</g>\r\n",
       "<!-- 14&#45;&gt;16 -->\r\n",
       "<g id=\"edge16\" class=\"edge\"><title>14&#45;&gt;16</title>\r\n",
       "<path fill=\"none\" stroke=\"black\" d=\"M469.492,-188.992C472.588,-178.878 476.048,-167.577 479.231,-157.18\"/>\r\n",
       "<polygon fill=\"black\" stroke=\"black\" points=\"482.596,-158.143 482.177,-147.556 475.903,-156.094 482.596,-158.143\"/>\r\n",
       "</g>\r\n",
       "<!-- 19 -->\r\n",
       "<g id=\"node20\" class=\"node\"><title>19</title>\r\n",
       "<path fill=\"#e58139\" stroke=\"black\" d=\"M634,-447.5C634,-447.5 558,-447.5 558,-447.5 552,-447.5 546,-441.5 546,-435.5 546,-435.5 546,-406.5 546,-406.5 546,-400.5 552,-394.5 558,-394.5 558,-394.5 634,-394.5 634,-394.5 640,-394.5 646,-400.5 646,-406.5 646,-406.5 646,-435.5 646,-435.5 646,-441.5 640,-447.5 634,-447.5\"/>\r\n",
       "<text text-anchor=\"start\" x=\"554\" y=\"-432.3\" font-family=\"Helvetica,sans-Serif\" font-size=\"14.00\">entropy = 0.0</text>\r\n",
       "<text text-anchor=\"start\" x=\"556.5\" y=\"-417.3\" font-family=\"Helvetica,sans-Serif\" font-size=\"14.00\">samples = 3</text>\r\n",
       "<text text-anchor=\"start\" x=\"555.5\" y=\"-402.3\" font-family=\"Helvetica,sans-Serif\" font-size=\"14.00\">value = [3, 0]</text>\r\n",
       "</g>\r\n",
       "<!-- 18&#45;&gt;19 -->\r\n",
       "<g id=\"edge19\" class=\"edge\"><title>18&#45;&gt;19</title>\r\n",
       "<path fill=\"none\" stroke=\"black\" d=\"M597.367,-488.992C597.165,-479.087 596.94,-468.042 596.731,-457.824\"/>\r\n",
       "<polygon fill=\"black\" stroke=\"black\" points=\"600.225,-457.483 596.522,-447.556 593.226,-457.626 600.225,-457.483\"/>\r\n",
       "</g>\r\n",
       "<!-- 20 -->\r\n",
       "<g id=\"node21\" class=\"node\"><title>20</title>\r\n",
       "<path fill=\"#399de5\" fill-opacity=\"0.713725\" stroke=\"black\" d=\"M768,-453C768,-453 676,-453 676,-453 670,-453 664,-447 664,-441 664,-441 664,-401 664,-401 664,-395 670,-389 676,-389 676,-389 768,-389 768,-389 774,-389 780,-395 780,-401 780,-401 780,-441 780,-441 780,-447 774,-453 768,-453\"/>\r\n",
       "<text text-anchor=\"start\" x=\"684\" y=\"-438.8\" font-family=\"Helvetica,sans-Serif\" font-size=\"14.00\">X</text>\r\n",
       "<text text-anchor=\"start\" x=\"694\" y=\"-438.8\" font-family=\"Helvetica,sans-Serif\" baseline-shift=\"sub\" font-size=\"14.00\">15</text>\r\n",
       "<text text-anchor=\"start\" x=\"708\" y=\"-438.8\" font-family=\"Helvetica,sans-Serif\" font-size=\"14.00\"> ≤ 1.988</text>\r\n",
       "<text text-anchor=\"start\" x=\"672\" y=\"-424.8\" font-family=\"Helvetica,sans-Serif\" font-size=\"14.00\">entropy = 0.764</text>\r\n",
       "<text text-anchor=\"start\" x=\"678.5\" y=\"-410.8\" font-family=\"Helvetica,sans-Serif\" font-size=\"14.00\">samples = 18</text>\r\n",
       "<text text-anchor=\"start\" x=\"677.5\" y=\"-396.8\" font-family=\"Helvetica,sans-Serif\" font-size=\"14.00\">value = [4, 14]</text>\r\n",
       "</g>\r\n",
       "<!-- 18&#45;&gt;20 -->\r\n",
       "<g id=\"edge20\" class=\"edge\"><title>18&#45;&gt;20</title>\r\n",
       "<path fill=\"none\" stroke=\"black\" d=\"M637.234,-488.992C649.108,-479.608 662.275,-469.202 674.622,-459.444\"/>\r\n",
       "<polygon fill=\"black\" stroke=\"black\" points=\"676.92,-462.089 682.595,-453.142 672.579,-456.597 676.92,-462.089\"/>\r\n",
       "</g>\r\n",
       "<!-- 21 -->\r\n",
       "<g id=\"node22\" class=\"node\"><title>21</title>\r\n",
       "<path fill=\"#399de5\" fill-opacity=\"0.784314\" stroke=\"black\" d=\"M765,-353C765,-353 673,-353 673,-353 667,-353 661,-347 661,-341 661,-341 661,-301 661,-301 661,-295 667,-289 673,-289 673,-289 765,-289 765,-289 771,-289 777,-295 777,-301 777,-301 777,-341 777,-341 777,-347 771,-353 765,-353\"/>\r\n",
       "<text text-anchor=\"start\" x=\"684.5\" y=\"-338.8\" font-family=\"Helvetica,sans-Serif\" font-size=\"14.00\">X</text>\r\n",
       "<text text-anchor=\"start\" x=\"694.5\" y=\"-338.8\" font-family=\"Helvetica,sans-Serif\" baseline-shift=\"sub\" font-size=\"14.00\">7</text>\r\n",
       "<text text-anchor=\"start\" x=\"701.5\" y=\"-338.8\" font-family=\"Helvetica,sans-Serif\" font-size=\"14.00\"> ≤ 1.988</text>\r\n",
       "<text text-anchor=\"start\" x=\"669\" y=\"-324.8\" font-family=\"Helvetica,sans-Serif\" font-size=\"14.00\">entropy = 0.672</text>\r\n",
       "<text text-anchor=\"start\" x=\"675.5\" y=\"-310.8\" font-family=\"Helvetica,sans-Serif\" font-size=\"14.00\">samples = 17</text>\r\n",
       "<text text-anchor=\"start\" x=\"674.5\" y=\"-296.8\" font-family=\"Helvetica,sans-Serif\" font-size=\"14.00\">value = [3, 14]</text>\r\n",
       "</g>\r\n",
       "<!-- 20&#45;&gt;21 -->\r\n",
       "<g id=\"edge21\" class=\"edge\"><title>20&#45;&gt;21</title>\r\n",
       "<path fill=\"none\" stroke=\"black\" d=\"M721.051,-388.992C720.802,-380.859 720.529,-371.959 720.267,-363.378\"/>\r\n",
       "<polygon fill=\"black\" stroke=\"black\" points=\"723.758,-363.031 719.953,-353.142 716.761,-363.245 723.758,-363.031\"/>\r\n",
       "</g>\r\n",
       "<!-- 28 -->\r\n",
       "<g id=\"node29\" class=\"node\"><title>28</title>\r\n",
       "<path fill=\"#e58139\" stroke=\"black\" d=\"M883,-347.5C883,-347.5 807,-347.5 807,-347.5 801,-347.5 795,-341.5 795,-335.5 795,-335.5 795,-306.5 795,-306.5 795,-300.5 801,-294.5 807,-294.5 807,-294.5 883,-294.5 883,-294.5 889,-294.5 895,-300.5 895,-306.5 895,-306.5 895,-335.5 895,-335.5 895,-341.5 889,-347.5 883,-347.5\"/>\r\n",
       "<text text-anchor=\"start\" x=\"803\" y=\"-332.3\" font-family=\"Helvetica,sans-Serif\" font-size=\"14.00\">entropy = 0.0</text>\r\n",
       "<text text-anchor=\"start\" x=\"805.5\" y=\"-317.3\" font-family=\"Helvetica,sans-Serif\" font-size=\"14.00\">samples = 1</text>\r\n",
       "<text text-anchor=\"start\" x=\"804.5\" y=\"-302.3\" font-family=\"Helvetica,sans-Serif\" font-size=\"14.00\">value = [1, 0]</text>\r\n",
       "</g>\r\n",
       "<!-- 20&#45;&gt;28 -->\r\n",
       "<g id=\"edge28\" class=\"edge\"><title>20&#45;&gt;28</title>\r\n",
       "<path fill=\"none\" stroke=\"black\" d=\"M760.918,-388.992C774.921,-377.836 790.737,-365.234 804.843,-353.995\"/>\r\n",
       "<polygon fill=\"black\" stroke=\"black\" points=\"807.284,-356.525 812.924,-347.556 802.922,-351.05 807.284,-356.525\"/>\r\n",
       "</g>\r\n",
       "<!-- 22 -->\r\n",
       "<g id=\"node23\" class=\"node\"><title>22</title>\r\n",
       "<path fill=\"#399de5\" fill-opacity=\"0.858824\" stroke=\"black\" d=\"M762,-253C762,-253 670,-253 670,-253 664,-253 658,-247 658,-241 658,-241 658,-201 658,-201 658,-195 664,-189 670,-189 670,-189 762,-189 762,-189 768,-189 774,-195 774,-201 774,-201 774,-241 774,-241 774,-247 768,-253 762,-253\"/>\r\n",
       "<text text-anchor=\"start\" x=\"678\" y=\"-238.8\" font-family=\"Helvetica,sans-Serif\" font-size=\"14.00\">X</text>\r\n",
       "<text text-anchor=\"start\" x=\"688\" y=\"-238.8\" font-family=\"Helvetica,sans-Serif\" baseline-shift=\"sub\" font-size=\"14.00\">42</text>\r\n",
       "<text text-anchor=\"start\" x=\"702\" y=\"-238.8\" font-family=\"Helvetica,sans-Serif\" font-size=\"14.00\"> ≤ 4.243</text>\r\n",
       "<text text-anchor=\"start\" x=\"666\" y=\"-224.8\" font-family=\"Helvetica,sans-Serif\" font-size=\"14.00\">entropy = 0.544</text>\r\n",
       "<text text-anchor=\"start\" x=\"672.5\" y=\"-210.8\" font-family=\"Helvetica,sans-Serif\" font-size=\"14.00\">samples = 16</text>\r\n",
       "<text text-anchor=\"start\" x=\"671.5\" y=\"-196.8\" font-family=\"Helvetica,sans-Serif\" font-size=\"14.00\">value = [2, 14]</text>\r\n",
       "</g>\r\n",
       "<!-- 21&#45;&gt;22 -->\r\n",
       "<g id=\"edge22\" class=\"edge\"><title>21&#45;&gt;22</title>\r\n",
       "<path fill=\"none\" stroke=\"black\" d=\"M718.051,-288.992C717.802,-280.859 717.529,-271.959 717.267,-263.378\"/>\r\n",
       "<polygon fill=\"black\" stroke=\"black\" points=\"720.758,-263.031 716.953,-253.142 713.761,-263.245 720.758,-263.031\"/>\r\n",
       "</g>\r\n",
       "<!-- 27 -->\r\n",
       "<g id=\"node28\" class=\"node\"><title>27</title>\r\n",
       "<path fill=\"#e58139\" stroke=\"black\" d=\"M880,-247.5C880,-247.5 804,-247.5 804,-247.5 798,-247.5 792,-241.5 792,-235.5 792,-235.5 792,-206.5 792,-206.5 792,-200.5 798,-194.5 804,-194.5 804,-194.5 880,-194.5 880,-194.5 886,-194.5 892,-200.5 892,-206.5 892,-206.5 892,-235.5 892,-235.5 892,-241.5 886,-247.5 880,-247.5\"/>\r\n",
       "<text text-anchor=\"start\" x=\"800\" y=\"-232.3\" font-family=\"Helvetica,sans-Serif\" font-size=\"14.00\">entropy = 0.0</text>\r\n",
       "<text text-anchor=\"start\" x=\"802.5\" y=\"-217.3\" font-family=\"Helvetica,sans-Serif\" font-size=\"14.00\">samples = 1</text>\r\n",
       "<text text-anchor=\"start\" x=\"801.5\" y=\"-202.3\" font-family=\"Helvetica,sans-Serif\" font-size=\"14.00\">value = [1, 0]</text>\r\n",
       "</g>\r\n",
       "<!-- 21&#45;&gt;27 -->\r\n",
       "<g id=\"edge27\" class=\"edge\"><title>21&#45;&gt;27</title>\r\n",
       "<path fill=\"none\" stroke=\"black\" d=\"M757.918,-288.992C771.921,-277.836 787.737,-265.234 801.843,-253.995\"/>\r\n",
       "<polygon fill=\"black\" stroke=\"black\" points=\"804.284,-256.525 809.924,-247.556 799.922,-251.05 804.284,-256.525\"/>\r\n",
       "</g>\r\n",
       "<!-- 23 -->\r\n",
       "<g id=\"node24\" class=\"node\"><title>23</title>\r\n",
       "<path fill=\"#399de5\" fill-opacity=\"0.929412\" stroke=\"black\" d=\"M670,-153C670,-153 578,-153 578,-153 572,-153 566,-147 566,-141 566,-141 566,-101 566,-101 566,-95 572,-89 578,-89 578,-89 670,-89 670,-89 676,-89 682,-95 682,-101 682,-101 682,-141 682,-141 682,-147 676,-153 670,-153\"/>\r\n",
       "<text text-anchor=\"start\" x=\"587\" y=\"-138.8\" font-family=\"Helvetica,sans-Serif\" font-size=\"14.00\">X</text>\r\n",
       "<text text-anchor=\"start\" x=\"597\" y=\"-138.8\" font-family=\"Helvetica,sans-Serif\" baseline-shift=\"sub\" font-size=\"14.00\">2</text>\r\n",
       "<text text-anchor=\"start\" x=\"604\" y=\"-138.8\" font-family=\"Helvetica,sans-Serif\" font-size=\"14.00\"> ≤ &#45;0.577</text>\r\n",
       "<text text-anchor=\"start\" x=\"574\" y=\"-124.8\" font-family=\"Helvetica,sans-Serif\" font-size=\"14.00\">entropy = 0.353</text>\r\n",
       "<text text-anchor=\"start\" x=\"580.5\" y=\"-110.8\" font-family=\"Helvetica,sans-Serif\" font-size=\"14.00\">samples = 15</text>\r\n",
       "<text text-anchor=\"start\" x=\"579.5\" y=\"-96.8\" font-family=\"Helvetica,sans-Serif\" font-size=\"14.00\">value = [1, 14]</text>\r\n",
       "</g>\r\n",
       "<!-- 22&#45;&gt;23 -->\r\n",
       "<g id=\"edge23\" class=\"edge\"><title>22&#45;&gt;23</title>\r\n",
       "<path fill=\"none\" stroke=\"black\" d=\"M686.891,-188.992C678.417,-179.966 669.055,-169.993 660.201,-160.562\"/>\r\n",
       "<polygon fill=\"black\" stroke=\"black\" points=\"662.632,-158.038 653.236,-153.142 657.528,-162.829 662.632,-158.038\"/>\r\n",
       "</g>\r\n",
       "<!-- 26 -->\r\n",
       "<g id=\"node27\" class=\"node\"><title>26</title>\r\n",
       "<path fill=\"#e58139\" stroke=\"black\" d=\"M788,-147.5C788,-147.5 712,-147.5 712,-147.5 706,-147.5 700,-141.5 700,-135.5 700,-135.5 700,-106.5 700,-106.5 700,-100.5 706,-94.5 712,-94.5 712,-94.5 788,-94.5 788,-94.5 794,-94.5 800,-100.5 800,-106.5 800,-106.5 800,-135.5 800,-135.5 800,-141.5 794,-147.5 788,-147.5\"/>\r\n",
       "<text text-anchor=\"start\" x=\"708\" y=\"-132.3\" font-family=\"Helvetica,sans-Serif\" font-size=\"14.00\">entropy = 0.0</text>\r\n",
       "<text text-anchor=\"start\" x=\"710.5\" y=\"-117.3\" font-family=\"Helvetica,sans-Serif\" font-size=\"14.00\">samples = 1</text>\r\n",
       "<text text-anchor=\"start\" x=\"709.5\" y=\"-102.3\" font-family=\"Helvetica,sans-Serif\" font-size=\"14.00\">value = [1, 0]</text>\r\n",
       "</g>\r\n",
       "<!-- 22&#45;&gt;26 -->\r\n",
       "<g id=\"edge26\" class=\"edge\"><title>22&#45;&gt;26</title>\r\n",
       "<path fill=\"none\" stroke=\"black\" d=\"M726.758,-188.992C730.267,-178.878 734.188,-167.577 737.795,-157.18\"/>\r\n",
       "<polygon fill=\"black\" stroke=\"black\" points=\"741.162,-158.151 741.133,-147.556 734.549,-155.857 741.162,-158.151\"/>\r\n",
       "</g>\r\n",
       "<!-- 24 -->\r\n",
       "<g id=\"node25\" class=\"node\"><title>24</title>\r\n",
       "<path fill=\"#399de5\" fill-opacity=\"0.666667\" stroke=\"black\" d=\"M605,-53C605,-53 513,-53 513,-53 507,-53 501,-47 501,-41 501,-41 501,-12 501,-12 501,-6 507,-0 513,-0 513,-0 605,-0 605,-0 611,-0 617,-6 617,-12 617,-12 617,-41 617,-41 617,-47 611,-53 605,-53\"/>\r\n",
       "<text text-anchor=\"start\" x=\"509\" y=\"-37.8\" font-family=\"Helvetica,sans-Serif\" font-size=\"14.00\">entropy = 0.811</text>\r\n",
       "<text text-anchor=\"start\" x=\"519.5\" y=\"-22.8\" font-family=\"Helvetica,sans-Serif\" font-size=\"14.00\">samples = 4</text>\r\n",
       "<text text-anchor=\"start\" x=\"518.5\" y=\"-7.8\" font-family=\"Helvetica,sans-Serif\" font-size=\"14.00\">value = [1, 3]</text>\r\n",
       "</g>\r\n",
       "<!-- 23&#45;&gt;24 -->\r\n",
       "<g id=\"edge24\" class=\"edge\"><title>23&#45;&gt;24</title>\r\n",
       "<path fill=\"none\" stroke=\"black\" d=\"M602.175,-88.9415C595.97,-80.1118 589.182,-70.451 582.863,-61.4586\"/>\r\n",
       "<polygon fill=\"black\" stroke=\"black\" points=\"585.596,-59.2604 576.983,-53.0908 579.869,-63.2851 585.596,-59.2604\"/>\r\n",
       "</g>\r\n",
       "<!-- 25 -->\r\n",
       "<g id=\"node26\" class=\"node\"><title>25</title>\r\n",
       "<path fill=\"#399de5\" stroke=\"black\" d=\"M728.5,-53C728.5,-53 647.5,-53 647.5,-53 641.5,-53 635.5,-47 635.5,-41 635.5,-41 635.5,-12 635.5,-12 635.5,-6 641.5,-0 647.5,-0 647.5,-0 728.5,-0 728.5,-0 734.5,-0 740.5,-6 740.5,-12 740.5,-12 740.5,-41 740.5,-41 740.5,-47 734.5,-53 728.5,-53\"/>\r\n",
       "<text text-anchor=\"start\" x=\"646\" y=\"-37.8\" font-family=\"Helvetica,sans-Serif\" font-size=\"14.00\">entropy = 0.0</text>\r\n",
       "<text text-anchor=\"start\" x=\"644.5\" y=\"-22.8\" font-family=\"Helvetica,sans-Serif\" font-size=\"14.00\">samples = 11</text>\r\n",
       "<text text-anchor=\"start\" x=\"643.5\" y=\"-7.8\" font-family=\"Helvetica,sans-Serif\" font-size=\"14.00\">value = [0, 11]</text>\r\n",
       "</g>\r\n",
       "<!-- 23&#45;&gt;25 -->\r\n",
       "<g id=\"edge25\" class=\"edge\"><title>23&#45;&gt;25</title>\r\n",
       "<path fill=\"none\" stroke=\"black\" d=\"M645.489,-88.9415C651.598,-80.1118 658.283,-70.451 664.504,-61.4586\"/>\r\n",
       "<polygon fill=\"black\" stroke=\"black\" points=\"667.482,-63.3058 670.294,-53.0908 661.726,-59.3229 667.482,-63.3058\"/>\r\n",
       "</g>\r\n",
       "</g>\r\n",
       "</svg>\r\n"
      ],
      "text/plain": [
       "<graphviz.files.Source at 0x1f6307e6048>"
      ]
     },
     "execution_count": 63,
     "metadata": {},
     "output_type": "execute_result"
    }
   ],
   "source": [
    "from sklearn.tree import export_graphviz  \n",
    "from sklearn import tree\n",
    "import graphviz \n",
    "\n",
    "dtreeexp = tree.export_graphviz(clf, out_file=None,  \n",
    "                filled=True, rounded=True,\n",
    "                special_characters=True)\n",
    "treegraph = graphviz.Source(dtreeexp) \n",
    "treegraph"
   ]
  },
  {
   "cell_type": "markdown",
   "metadata": {},
   "source": [
    "## Q5"
   ]
  },
  {
   "cell_type": "code",
   "execution_count": 94,
   "metadata": {},
   "outputs": [
    {
     "name": "stdout",
     "output_type": "stream",
     "text": [
      "The weights of the attributes are: [[ 0.51071714  0.63266695  3.08669498 -0.96178594 -0.92289613 -0.53288826\n",
      "  -0.62226202 -0.81591498 -5.5618928  -0.56802501  0.29590178  0.\n",
      "  -1.62633185  0.         -0.32549701 -1.88689592  0.31429248 -0.54619058\n",
      "   1.26798158 -1.43836221  0.         -0.17682899  0.         -1.64287517\n",
      "  -0.64204008 -0.30082858  0.0581535   1.3754485   0.          0.90903961\n",
      "   0.57164499 -0.81402077 -0.66218931  0.          0.          5.2457744\n",
      "   0.         -1.25495262  0.97514715  0.11085703  0.          0.\n",
      "  -2.13894018  0.          0.          2.30694785  2.63065454  0.\n",
      "  -0.43982741  1.83854003 -0.05134328]]\n",
      "1 [0.43701433 0.56298567] 1.0\n",
      "              precision    recall  f1-score   support\n",
      "\n",
      "           0       0.81      0.76      0.79        34\n",
      "           1       0.38      0.45      0.42        11\n",
      "\n",
      "   micro avg       0.69      0.69      0.69        45\n",
      "   macro avg       0.60      0.61      0.60        45\n",
      "weighted avg       0.71      0.69      0.70        45\n",
      "\n",
      "The accuracy score of clf model is 0.6888888888888889\n",
      "The precision score of clf model is 0.38461538461538464\n",
      "The recall score of clf model is 0.45454545454545453\n",
      "The F measure of clf model is 0.41666666666666663\n",
      "MCC is 0.2078889405431769\n"
     ]
    }
   ],
   "source": [
    "from sklearn import linear_model\n",
    "from sklearn.metrics import accuracy_score, f1_score, cohen_kappa_score, classification_report\n",
    "clf = linear_model.LogisticRegression(C=100,penalty='l1')\n",
    "\n",
    "clf = clf.fit(X_train, y_train)\n",
    "print('The weights of the attributes are:', clf.coef_)\n",
    "#################################### Apply the Logistic Regression Model ####################################\n",
    "\n",
    "y_pred = clf.predict(X_test)             # Classification prediction\n",
    "y_pred_prob = clf.predict_proba(X_test)  # Class probabilities\n",
    "y_pred_insample = clf.predict(X_train)\n",
    "print(y_pred[0], y_pred_prob[0], np.sum(y_pred_prob[0]))\n",
    "\n",
    "################################### Evaluate the Logistic Regression Model ##################################\n",
    "\n",
    "# Build a text report showing the main classification metrics (out-of-sample performance)\n",
    "print(classification_report(y_test, y_pred))\n",
    "\n",
    "#Predict the response for test dataset\n",
    "clf_A = accuracy_score(y_test,y_pred)\n",
    "clf_P = precision_score(y_test,y_pred)\n",
    "clf_R = recall_score(y_test,y_pred)\n",
    "clf_F = f1_score(y_test,y_pred)\n",
    "\n",
    "print(\"The accuracy score of clf model is \" + str(clf_A))    \n",
    "print(\"The precision score of clf model is \" + str(clf_P))\n",
    "print(\"The recall score of clf model is \" + str(clf_R))\n",
    "print(\"The F measure of clf model is \" + str(clf_F))\n",
    "\n",
    "from sklearn.metrics import matthews_corrcoef\n",
    " \n",
    "a = matthews_corrcoef(y_test, y_pred) \n",
    "print(\"MCC is \" + str(a))"
   ]
  },
  {
   "cell_type": "code",
   "execution_count": 67,
   "metadata": {},
   "outputs": [
    {
     "name": "stderr",
     "output_type": "stream",
     "text": [
      "C:\\Users\\Adil Ashish Kumar\\Anaconda3\\lib\\site-packages\\sklearn\\linear_model\\logistic.py:433: FutureWarning: Default solver will be changed to 'lbfgs' in 0.22. Specify a solver to silence this warning.\n",
      "  FutureWarning)\n",
      "C:\\Users\\Adil Ashish Kumar\\Anaconda3\\lib\\site-packages\\sklearn\\linear_model\\logistic.py:433: FutureWarning: Default solver will be changed to 'lbfgs' in 0.22. Specify a solver to silence this warning.\n",
      "  FutureWarning)\n",
      "C:\\Users\\Adil Ashish Kumar\\Anaconda3\\lib\\site-packages\\sklearn\\linear_model\\logistic.py:433: FutureWarning: Default solver will be changed to 'lbfgs' in 0.22. Specify a solver to silence this warning.\n",
      "  FutureWarning)\n",
      "C:\\Users\\Adil Ashish Kumar\\Anaconda3\\lib\\site-packages\\sklearn\\linear_model\\logistic.py:433: FutureWarning: Default solver will be changed to 'lbfgs' in 0.22. Specify a solver to silence this warning.\n",
      "  FutureWarning)\n",
      "C:\\Users\\Adil Ashish Kumar\\Anaconda3\\lib\\site-packages\\sklearn\\linear_model\\logistic.py:433: FutureWarning: Default solver will be changed to 'lbfgs' in 0.22. Specify a solver to silence this warning.\n",
      "  FutureWarning)\n",
      "C:\\Users\\Adil Ashish Kumar\\Anaconda3\\lib\\site-packages\\sklearn\\linear_model\\logistic.py:433: FutureWarning: Default solver will be changed to 'lbfgs' in 0.22. Specify a solver to silence this warning.\n",
      "  FutureWarning)\n"
     ]
    },
    {
     "name": "stdout",
     "output_type": "stream",
     "text": [
      "Performance: 0.760 (+/- 0.160)\n"
     ]
    },
    {
     "name": "stderr",
     "output_type": "stream",
     "text": [
      "C:\\Users\\Adil Ashish Kumar\\Anaconda3\\lib\\site-packages\\sklearn\\linear_model\\logistic.py:433: FutureWarning: Default solver will be changed to 'lbfgs' in 0.22. Specify a solver to silence this warning.\n",
      "  FutureWarning)\n",
      "C:\\Users\\Adil Ashish Kumar\\Anaconda3\\lib\\site-packages\\sklearn\\linear_model\\logistic.py:433: FutureWarning: Default solver will be changed to 'lbfgs' in 0.22. Specify a solver to silence this warning.\n",
      "  FutureWarning)\n",
      "C:\\Users\\Adil Ashish Kumar\\Anaconda3\\lib\\site-packages\\sklearn\\linear_model\\logistic.py:433: FutureWarning: Default solver will be changed to 'lbfgs' in 0.22. Specify a solver to silence this warning.\n",
      "  FutureWarning)\n",
      "C:\\Users\\Adil Ashish Kumar\\Anaconda3\\lib\\site-packages\\sklearn\\linear_model\\logistic.py:433: FutureWarning: Default solver will be changed to 'lbfgs' in 0.22. Specify a solver to silence this warning.\n",
      "  FutureWarning)\n"
     ]
    }
   ],
   "source": [
    "\n",
    "#logistic Regression Model\n",
    "lr = linear_model.LogisticRegression(C=100,penalty='l1',random_state=32)\n",
    "scores_lr = cross_val_score(lr, X_std, y, cv=10)\n",
    "print(\"Performance: %0.3f (+/- %0.3f)\" % (scores_lr.mean(), scores_lr.std() * 2))"
   ]
  },
  {
   "cell_type": "markdown",
   "metadata": {},
   "source": [
    "## Q6"
   ]
  },
  {
   "cell_type": "code",
   "execution_count": 95,
   "metadata": {},
   "outputs": [
    {
     "name": "stdout",
     "output_type": "stream",
     "text": [
      "0 [1. 0.] 1.0\n",
      "              precision    recall  f1-score   support\n",
      "\n",
      "           0       0.81      0.85      0.83        34\n",
      "           1       0.44      0.36      0.40        11\n",
      "\n",
      "   micro avg       0.73      0.73      0.73        45\n",
      "   macro avg       0.62      0.61      0.61        45\n",
      "weighted avg       0.72      0.73      0.72        45\n",
      "\n",
      "The accuracy score of clf model is 0.7333333333333333\n",
      "The precision score of clf model is 0.4444444444444444\n",
      "The recall score of clf model is 0.36363636363636365\n",
      "The F measure of clf model is 0.39999999999999997\n",
      "MCC is 0.23268946049775863\n"
     ]
    }
   ],
   "source": [
    "from sklearn import neighbors\n",
    "\n",
    "knn = neighbors.KNeighborsClassifier(n_neighbors=3) #The default metric is minkowski, which is a generalization of the Euclidean distance\n",
    "                                               # with p=2 is equivalent to the standard Euclidean distance.\n",
    "                                               # with p=1 is equivalent to the Mahattan distance.\n",
    "\n",
    "# Train the model      \n",
    "clf = knn.fit(X_train, y_train) \n",
    "\n",
    "\n",
    "y_pred = clf.predict(X_test)             # Classification prediction\n",
    "y_pred_prob = clf.predict_proba(X_test)  # Class probabilities\n",
    "y_pred_insample = clf.predict(X_train)\n",
    "print(y_pred[0], y_pred_prob[0], np.sum(y_pred_prob[0]))\n",
    "\n",
    "################################### Evaluate the Logistic Regression Model ##################################\n",
    "\n",
    "# Build a text report showing the main classification metrics (out-of-sample performance)\n",
    "print(classification_report(y_test, y_pred))\n",
    "\n",
    "#Predict the response for test dataset\n",
    "clf_A = accuracy_score(y_test,y_pred)\n",
    "clf_P = precision_score(y_test,y_pred)\n",
    "clf_R = recall_score(y_test,y_pred)\n",
    "clf_F = f1_score(y_test,y_pred)\n",
    "\n",
    "print(\"The accuracy score of clf model is \" + str(clf_A))    \n",
    "print(\"The precision score of clf model is \" + str(clf_P))\n",
    "print(\"The recall score of clf model is \" + str(clf_R))\n",
    "print(\"The F measure of clf model is \" + str(clf_F))\n",
    "\n",
    "from sklearn.metrics import matthews_corrcoef\n",
    " \n",
    "a = matthews_corrcoef(y_test, y_pred) \n",
    "print(\"MCC is \" + str(a))"
   ]
  },
  {
   "cell_type": "code",
   "execution_count": 71,
   "metadata": {},
   "outputs": [
    {
     "name": "stdout",
     "output_type": "stream",
     "text": [
      "Performance: 0.698 (+/- 0.248)\n"
     ]
    }
   ],
   "source": [
    "knn = neighbors.KNeighborsClassifier(n_neighbors=3)\n",
    "scores_knn = cross_val_score(knn, X_std, y, cv=10)\n",
    "print(\"Performance: %0.3f (+/- %0.3f)\" % (scores_knn.mean(), scores_knn.std() * 2))"
   ]
  },
  {
   "cell_type": "markdown",
   "metadata": {},
   "source": [
    "## Q7"
   ]
  },
  {
   "cell_type": "code",
   "execution_count": 74,
   "metadata": {},
   "outputs": [
    {
     "name": "stderr",
     "output_type": "stream",
     "text": [
      "C:\\Users\\Adil Ashish Kumar\\Anaconda3\\lib\\site-packages\\sklearn\\linear_model\\logistic.py:433: FutureWarning: Default solver will be changed to 'lbfgs' in 0.22. Specify a solver to silence this warning.\n",
      "  FutureWarning)\n"
     ]
    },
    {
     "data": {
      "image/png": "[encoded data removed]",
      "text/plain": [
       "<Figure size 432x288 with 1 Axes>"
      ]
     },
     "metadata": {
      "needs_background": "light"
     },
     "output_type": "display_data"
    }
   ],
   "source": [
    "############################### Import Libraries & Modules #################################\n",
    "from sklearn.metrics import roc_curve\n",
    "from sklearn.metrics import auc\n",
    "from sklearn.neighbors import KNeighborsClassifier \n",
    "\n",
    "clf1 = linear_model.LogisticRegression(C=100,penalty='l1')\n",
    "clf2 = DecisionTreeClassifier(max_depth=6,random_state=32,criterion=\"entropy\")\n",
    "clf3 = neighbors.KNeighborsClassifier(n_neighbors=3)\n",
    "\n",
    "# Label the classifiers\n",
    "clf_labels = ['Logistic regression', 'Decision tree', 'kNN']\n",
    "all_clf = [clf1, clf2, clf3]\n",
    "\n",
    "##################################### Visualization ######################################\n",
    "\n",
    "colors = [ 'orange', 'blue', 'green']      # Colors for visualization\n",
    "linestyles = [':', '--', '-.', '-']        # Line styles for visualization\n",
    "for clf, label, clr, ls in zip(all_clf,\n",
    "               clf_labels, colors, linestyles):\n",
    "        # Assuming the label of the positive class is 1 and data is normalized\n",
    "        y_pred = clf.fit(X_train,y_train).predict_proba(X_test)[:, 1] # Make predictions based on the classifiers\n",
    "        fpr, tpr, thresholds = roc_curve(y_true=y_test,y_score=y_pred)\n",
    "        roc_auc = auc(x=fpr, y=tpr)                # Compute Area Under the Curve (AUC) \n",
    "        plt.plot(fpr, tpr,color=clr,linestyle=ls,label='%s (auc = %0.2f)' % (label, roc_auc))\n",
    "\n",
    "\n",
    "plt.legend(loc='lower right')    # Where to place the legend\n",
    "plt.plot([0, 1], [0, 1], # Visualize random classifier\n",
    "         linestyle='--',\n",
    "         color='gray',\n",
    "         linewidth=2)\n",
    "\n",
    "plt.xlim([-0.1, 1.1])   #limits for x axis\n",
    "plt.ylim([-0.1, 1.1])   #limits for y axis\n",
    "plt.grid(alpha=0.5)\n",
    "plt.xlabel('False positive rate (FPR)')\n",
    "plt.ylabel('True positive rate (TPR)')\n",
    "\n",
    "#plt.savefig('ROC_all_classifiers', dpi=300)\n",
    "plt.show()"
   ]
  },
  {
   "cell_type": "code",
   "execution_count": null,
   "metadata": {},
   "outputs": [],
   "source": [
    "# i would choose  Decision tree since it has highest auc"
   ]
  },
  {
   "cell_type": "markdown",
   "metadata": {},
   "source": [
    "## Q8"
   ]
  },
  {
   "cell_type": "code",
   "execution_count": 75,
   "metadata": {},
   "outputs": [
    {
     "name": "stdout",
     "output_type": "stream",
     "text": [
      "\n",
      " Parameter Tuning - Decision Tree\n",
      "Non-nested CV F1 Score:  0.6295195001077354\n",
      "Optimal Parameter:  {'criterion': 'entropy', 'max_depth': None, 'min_samples_leaf': 1, 'min_samples_split': 3}\n",
      "Optimal Estimator:  DecisionTreeClassifier(class_weight=None, criterion='entropy', max_depth=None,\n",
      "            max_features=None, max_leaf_nodes=None,\n",
      "            min_impurity_decrease=0.0, min_impurity_split=None,\n",
      "            min_samples_leaf=1, min_samples_split=3,\n",
      "            min_weight_fraction_leaf=0.0, presort=False, random_state=None,\n",
      "            splitter='best')\n"
     ]
    },
    {
     "name": "stderr",
     "output_type": "stream",
     "text": [
      "C:\\Users\\Adil Ashish Kumar\\Anaconda3\\lib\\site-packages\\sklearn\\model_selection\\_search.py:841: DeprecationWarning: The default of the `iid` parameter will change from True to False in version 0.22 and will be removed in 0.24. This will change numeric results when test-set sizes are unequal.\n",
      "  DeprecationWarning)\n",
      "C:\\Users\\Adil Ashish Kumar\\Anaconda3\\lib\\site-packages\\sklearn\\model_selection\\_search.py:841: DeprecationWarning: The default of the `iid` parameter will change from True to False in version 0.22 and will be removed in 0.24. This will change numeric results when test-set sizes are unequal.\n",
      "  DeprecationWarning)\n",
      "C:\\Users\\Adil Ashish Kumar\\Anaconda3\\lib\\site-packages\\sklearn\\model_selection\\_search.py:841: DeprecationWarning: The default of the `iid` parameter will change from True to False in version 0.22 and will be removed in 0.24. This will change numeric results when test-set sizes are unequal.\n",
      "  DeprecationWarning)\n",
      "C:\\Users\\Adil Ashish Kumar\\Anaconda3\\lib\\site-packages\\sklearn\\model_selection\\_search.py:841: DeprecationWarning: The default of the `iid` parameter will change from True to False in version 0.22 and will be removed in 0.24. This will change numeric results when test-set sizes are unequal.\n",
      "  DeprecationWarning)\n"
     ]
    },
    {
     "name": "stdout",
     "output_type": "stream",
     "text": [
      "Nested CV F1 Score:  0.5648136177547942  +/-  0.07218650113747196\n"
     ]
    },
    {
     "name": "stderr",
     "output_type": "stream",
     "text": [
      "C:\\Users\\Adil Ashish Kumar\\Anaconda3\\lib\\site-packages\\sklearn\\model_selection\\_search.py:841: DeprecationWarning: The default of the `iid` parameter will change from True to False in version 0.22 and will be removed in 0.24. This will change numeric results when test-set sizes are unequal.\n",
      "  DeprecationWarning)\n"
     ]
    }
   ],
   "source": [
    "from sklearn.model_selection import GridSearchCV, KFold, cross_val_score\n",
    "\n",
    "\n",
    "inner_cv = KFold(n_splits=5, shuffle=True,random_state=32)\n",
    "outer_cv = KFold(n_splits=5, shuffle=True,random_state=32)\n",
    "    \n",
    "############################## Decision Tree Parameter Tuning ##############################\n",
    "\n",
    "# Choosing depth of the tree AND splitting criterion AND min_samples_leaf AND min_samples_split\n",
    "gs_dt = GridSearchCV(estimator=DecisionTreeClassifier(),\n",
    "                  param_grid=[{'max_depth': [1, 2, 3, 4, 5, 6,7,8,9,10, None], 'criterion':['gini','entropy'], \n",
    "                              'min_samples_leaf':[1,2,3,4,5,6,7,8,9,10],\n",
    "                              'min_samples_split':[2,3,4,5,6,7,8,9,10]}],\n",
    "                  scoring='f1',\n",
    "                  cv=inner_cv,\n",
    "                  n_jobs=5)\n",
    "\n",
    "gs_dt = gs_dt.fit(X_train,y_train)\n",
    "print(\"\\n Parameter Tuning - Decision Tree\")\n",
    "print(\"Non-nested CV F1 Score: \", gs_dt.best_score_)\n",
    "print(\"Optimal Parameter: \", gs_dt.best_params_)\n",
    "print(\"Optimal Estimator: \", gs_dt.best_estimator_)\n",
    "nested_score_gs_dt = cross_val_score(gs_dt, X=X_train, y=y_train, cv=outer_cv)\n",
    "print(\"Nested CV F1 Score: \",nested_score_gs_dt.mean(), \" +/- \", nested_score_gs_dt.std())"
   ]
  },
  {
   "cell_type": "markdown",
   "metadata": {},
   "source": [
    "## Q9"
   ]
  },
  {
   "cell_type": "code",
   "execution_count": 79,
   "metadata": {},
   "outputs": [
    {
     "name": "stdout",
     "output_type": "stream",
     "text": [
      "\n",
      " Parameter Tuning Logistic Regression\n",
      "Non-nested CV F1 Score:  0.6238522399513112\n",
      "Optimal Parameter:  {'C': 0.01, 'penalty': 'l2'}\n",
      "Optimal Estimator:  LogisticRegression(C=0.01, class_weight=None, dual=False, fit_intercept=True,\n",
      "          intercept_scaling=1, max_iter=100, multi_class='warn',\n",
      "          n_jobs=None, penalty='l2', random_state=None, solver='warn',\n",
      "          tol=0.0001, verbose=0, warm_start=False)\n",
      "Nested CV F1 Score: 0.611812865497076  +/-  0.08300336848949307\n"
     ]
    }
   ],
   "source": [
    "from sklearn.linear_model import LogisticRegression \n",
    "gs_lr = GridSearchCV(estimator=LogisticRegression(),\n",
    "                  param_grid=[{'C': [ 0.00001, 0.0001, 0.001, 0.01, 0.1 ,1 ,10 ,100, 1000, 10000, 100000, 1000000, 10000000],\n",
    "                             'penalty':['l1','l2']}],\n",
    "                  scoring='f1',\n",
    "                  cv=inner_cv)\n",
    "\n",
    "gs_lr = gs_lr.fit(X_train,y_train)\n",
    "print(\"\\n Parameter Tuning Logistic Regression\")\n",
    "print(\"Non-nested CV F1 Score: \", gs_lr.best_score_)\n",
    "print(\"Optimal Parameter: \", gs_lr.best_params_)\n",
    "print(\"Optimal Estimator: \", gs_lr.best_estimator_)\n",
    "nested_score_gs_lr = cross_val_score(gs_lr, X=X_train, y=y_train, cv=outer_cv)\n",
    "print(\"Nested CV F1 Score:\",nested_score_gs_lr.mean(), \" +/- \", nested_score_gs_lr.std())"
   ]
  },
  {
   "cell_type": "markdown",
   "metadata": {},
   "source": [
    "## Q10"
   ]
  },
  {
   "cell_type": "code",
   "execution_count": 78,
   "metadata": {},
   "outputs": [
    {
     "name": "stdout",
     "output_type": "stream",
     "text": [
      "\n",
      " Parameter Tuning - KNN algorithm\n",
      "Non-nested CV F1 Score:  0.586218487394958\n",
      "Optimal Parameter:  {'n_neighbors': 5, 'weights': 'distance'}\n",
      "Optimal Estimator:  KNeighborsClassifier(algorithm='auto', leaf_size=30, metric='minkowski',\n",
      "           metric_params=None, n_jobs=None, n_neighbors=5, p=2,\n",
      "           weights='distance')\n",
      "Nested CV F1 Score:  0.5060586472351177  +/-  0.18279815307439823\n"
     ]
    }
   ],
   "source": [
    "import sys ,warnings\n",
    "if not sys.warnoptions:\n",
    "    warnings.simplefilter(\"ignore\")\n",
    "# Choosing k for kNN AND type of distance\n",
    "gs_knn = GridSearchCV(estimator=neighbors.KNeighborsClassifier(p=2, \n",
    "                           metric='minkowski'),\n",
    "                  param_grid=[{'n_neighbors': [1,3,5,7,9,11,13,15,17,19,21,23,25,27,29],\n",
    "                               'weights':['uniform','distance']}],\n",
    "                  scoring='f1',\n",
    "                  cv=inner_cv,\n",
    "                  n_jobs=5)\n",
    "\n",
    "gs_knn = gs_knn.fit(X_train,y_train)  \n",
    "print(\"\\n Parameter Tuning - KNN algorithm\")\n",
    "print(\"Non-nested CV F1 Score: \", gs_knn.best_score_)\n",
    "print(\"Optimal Parameter: \", gs_knn.best_params_)\n",
    "print(\"Optimal Estimator: \", gs_knn.best_estimator_) # Estimator that was chosen by the search, i.e. estimator which gave highest score\n",
    "nested_score_gs_knn = cross_val_score(gs_knn, X=X_train, y=y_train, cv=outer_cv)\n",
    "print(\"Nested CV F1 Score: \",nested_score_gs_knn.mean(), \" +/- \", nested_score_gs_knn.std())"
   ]
  },
  {
   "cell_type": "markdown",
   "metadata": {},
   "source": [
    "## Q11"
   ]
  },
  {
   "cell_type": "code",
   "execution_count": 80,
   "metadata": {},
   "outputs": [],
   "source": [
    "import pandas as pd\n",
    "import math\n",
    "import numpy as np\n",
    "from sklearn.linear_model import LogisticRegression as LR\n",
    "from sklearn.ensemble import RandomForestClassifier as RF\n",
    "from sklearn.ensemble import GradientBoostingClassifier as GBC\n",
    "from sklearn.svm import SVC\n",
    "from sklearn.neighbors import NearestNeighbors\n",
    "import matplotlib.pyplot as plt\n",
    "from sklearn.preprocessing import StandardScaler\n",
    "%matplotlib inline\n",
    "clf1 = linear_model.LogisticRegression(C=0.01,penalty='l2')"
   ]
  },
  {
   "cell_type": "code",
   "execution_count": 81,
   "metadata": {},
   "outputs": [],
   "source": [
    "#Cost assumptions\n",
    "'''Cost of FP: 1, cost of FN: 2, cost of TN: 0, cost of TP: -1'''\n",
    "cost_TP = 100; cost_FP = -50; cost_FN = 0; cost_TN = 0;\n",
    "cb_matrix = -1*np.array([[cost_TP, cost_FP],[cost_FN, cost_TN]])\n"
   ]
  },
  {
   "cell_type": "code",
   "execution_count": 82,
   "metadata": {},
   "outputs": [],
   "source": [
    "\n",
    "#Convert to standard confusion matrix\n",
    "def standard_confusion_matrix(y_true, y_predict):\n",
    "    TP = sum((y_true == 1) & (y_predict == 1))\n",
    "    TN = sum((y_true == 0) & (y_predict == 0))\n",
    "    FP = sum((y_true == 0) & (y_predict == 1))\n",
    "    FN = sum((y_true == 1) & (y_predict == 0))\n",
    "    \n",
    "    return np.array([[TP,FP],[FN,TN]])"
   ]
  },
  {
   "cell_type": "code",
   "execution_count": 83,
   "metadata": {},
   "outputs": [],
   "source": [
    "\n",
    "def profit_curve(cb, predict_probas, labels):\n",
    "    #predict_probas = round(predict_probas,4)\n",
    "    indices = np.argsort(predict_probas)\n",
    "    sorted_probs = predict_probas[indices]\n",
    "    sorted_labels = labels[indices]\n",
    "    \n",
    "    profit_list = []\n",
    "    \n",
    "    for sp, sl in zip(sorted_probs, sorted_labels):\n",
    "        predict_labels = sorted_probs > sp + .0001\n",
    "        conf_mat = standard_confusion_matrix(sorted_labels, predict_labels)\n",
    "        profit_list.append((cb * conf_mat).sum() / float(len(labels)))\n",
    "    return profit_list, sorted_probs"
   ]
  },
  {
   "cell_type": "code",
   "execution_count": 84,
   "metadata": {},
   "outputs": [],
   "source": [
    "# Plot the profit curves\n",
    "def plot_profit_curve(model, label, costbenefit, X_std, X_test, y_train_sm, y_test, col):\n",
    "    model.fit(X_std, y_train_sm)\n",
    "    predict_probas = model.predict_proba(X_test)[:,1]\n",
    "    profit_list, sorted_probs = profit_curve(costbenefit, predict_probas, y_test)\n",
    "    max_index = np.argmax(profit_list)\n",
    "    max_threshold = sorted_probs[max_index]\n",
    "    max_profit = profit_list[max_index]\n",
    "    \n",
    "    plt.plot(sorted_probs, profit_list, label=label, color=col, linewidth=3)\n",
    "    plt.plot(max_threshold, max_profit, '.', color=col, markersize=18)"
   ]
  },
  {
   "cell_type": "code",
   "execution_count": 85,
   "metadata": {},
   "outputs": [
    {
     "data": {
      "image/png": "[encoded data removed]",
      "text/plain": [
       "<Figure size 720x576 with 1 Axes>"
      ]
     },
     "metadata": {
      "needs_background": "light"
     },
     "output_type": "display_data"
    }
   ],
   "source": [
    "models = [clf1]\n",
    "fig = plt.figure(figsize=(10,8))\n",
    "# fig.set_facecolor('#F2F2F2')\n",
    "colors = ['r', 'g', 'b', 'm']\n",
    "for i, model in enumerate(models):\n",
    "    plot_profit_curve(model, model.__class__.__name__, cb_matrix,\n",
    "                      X_train, X_test, y_train, y_test, colors[i])\n",
    "plt.title(\"Profit Curves\")\n",
    "plt.xlabel(\"Percentage of test instances (decreasing by score)\")\n",
    "plt.ylabel(\"Profit\")\n",
    "plt.legend(loc='lower right')\n",
    "plt.savefig('Profit_curve.png', facecolor=fig.get_facecolor())\n",
    "plt.show()"
   ]
  },
  {
   "cell_type": "markdown",
   "metadata": {},
   "source": [
    "## Q12"
   ]
  },
  {
   "cell_type": "code",
   "execution_count": 88,
   "metadata": {},
   "outputs": [
    {
     "data": {
      "image/png": "[encoded data removed]",
      "text/plain": [
       "<Figure size 1152x648 with 1 Axes>"
      ]
     },
     "metadata": {
      "needs_background": "light"
     },
     "output_type": "display_data"
    }
   ],
   "source": [
    "######################################## k-means Elbow Method (NTK) ########################################\n",
    "\n",
    "\n",
    "# Elbow method\n",
    "from scipy.spatial.distance import cdist\n",
    "\n",
    "distortions = []\n",
    "K = range(1,10)\n",
    "for k in K:\n",
    "    kmeanModel = KMeans(n_clusters=k).fit(X_train)\n",
    "    kmeanModel.fit(X_train)\n",
    "    distortions.append(sum(np.min(cdist(X_train, kmeanModel.cluster_centers_, 'euclidean'), axis=1)) / X_train.shape[0])\n",
    "\n",
    "# Plot the elbow\n",
    "plt.plot(K, distortions, 'bx-')\n",
    "plt.xlabel('k')\n",
    "plt.ylabel('Distortion')\n",
    "plt.title('The Elbow Method showing the optimal k')\n",
    "plt.show()\n"
   ]
  },
  {
   "cell_type": "code",
   "execution_count": 96,
   "metadata": {},
   "outputs": [],
   "source": [
    "######################################## k-means Clustering (NTK) ########################################\n",
    "\n",
    "import numpy as np\n",
    "import matplotlib.pyplot as plt\n",
    "from mpl_toolkits.mplot3d import Axes3D\n",
    "from sklearn.cluster import KMeans\n",
    "from sklearn.datasets import make_blobs\n",
    "\n",
    "# Initializing KMeans\n",
    "kmeans = KMeans(n_clusters=9)\n",
    "# Fitting with inputs\n",
    "kmeans = kmeans.fit(X_train)\n",
    "# Predicting the clusters\n",
    "labels = kmeans.predict(X_train)\n",
    "# Getting the cluster centers\n",
    "C = kmeans.cluster_centers_"
   ]
  }
 ],
 "metadata": {
  "kernelspec": {
   "display_name": "Python 3",
   "language": "python",
   "name": "python3"
  },
  "language_info": {
   "codemirror_mode": {
    "name": "ipython",
    "version": 3
   },
   "file_extension": ".py",
   "mimetype": "text/x-python",
   "name": "python",
   "nbconvert_exporter": "python",
   "pygments_lexer": "ipython3",
   "version": "3.7.3"
  }
 },
 "nbformat": 4,
 "nbformat_minor": 2
}
